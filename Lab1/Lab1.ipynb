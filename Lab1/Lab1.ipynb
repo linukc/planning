{
 "cells": [
  {
   "cell_type": "markdown",
   "metadata": {},
   "source": [
    "# Path Planning On a Grid"
   ]
  },
  {
   "cell_type": "markdown",
   "metadata": {},
   "source": [
    "![1](./Image/1.png)"
   ]
  },
  {
   "cell_type": "markdown",
   "metadata": {},
   "source": [
    "In this lab we consider the problem of finding a (shortest) path on a graph of special structure, widely used in robotics and computer games, i.e. a grid. Grid is composed of the free and blocked cells and an agent may move from one free cell to the other. The connectivity of the grid may vary, e.g. grid might be 4-connected when only cardinal moves are allowed, 8-connected when diagonal moves are allowed as well, etc. \n",
    "\n",
    "**In this lab we assume that the grid can be either 4-connected or 8-connected**. When grid is 4-connected only moves into the cardinal directions (N,E,W,S) are allowed. The cost of each move is uniform, i.e. 1. When grid is 8-connected diagonal moves are additionally allowed. The cost of diagonal moves is sqrt(2). \n",
    "\n",
    "We will consider two algorithms for grid-based pathfinding: `Dijkstra`'s algorithm and `A*`. Both of these algorithms can be implemented in a way that the difference might seem negligible. I.e. `Dijkstra`'s algorithm uses g-values to prioritize search-nodes in OPEN, while `A*` do this by utilizing f-values, where f(n)=g(n)+h(n), where h(n) is an admissible heuristic. This subtle difference, however, might severely influence the performance as will see further on.\n",
    "\n",
    "So let's go for it!"
   ]
  },
  {
   "cell_type": "markdown",
   "metadata": {},
   "source": [
    "![2](./Image/2.png)"
   ]
  },
  {
   "cell_type": "markdown",
   "metadata": {},
   "source": [
    "You task is to implement `Dijkstra` and `A*` by filling up the missing parts of the code. \n",
    "\n",
    "Run every cell of the notebook, completing the tasks described in them. Good luck!"
   ]
  },
  {
   "cell_type": "code",
   "execution_count": 1,
   "metadata": {},
   "outputs": [],
   "source": [
    "from PIL import Image, ImageDraw\n",
    "import numpy as np\n",
    "import matplotlib.pyplot as plt\n",
    "import math\n",
    "from sys import float_info\n",
    "EPS = float_info.epsilon\n",
    "%matplotlib inline"
   ]
  },
  {
   "cell_type": "markdown",
   "metadata": {},
   "source": [
    "### Grid map representation \n",
    "\n",
    "Square grid map class represents the environment for our moving agent\n",
    "\n",
    "- width -- the number of columns in the grid\n",
    "- height -- the number of rows in the grid\n",
    "- cells -- the binary matrix, that represents the grid. 0 - cell is traversable, 1 - cell is blocked"
   ]
  },
  {
   "cell_type": "code",
   "execution_count": 2,
   "metadata": {},
   "outputs": [],
   "source": [
    "class Map:\n",
    "\n",
    "    # \n",
    "    def __init__(self):\n",
    "        '''\n",
    "        Default constructor\n",
    "        '''\n",
    "\n",
    "        self.width = 0\n",
    "        self.height = 0\n",
    "        self.cells = []\n",
    "    \n",
    "\n",
    "    def ReadFromString(self, cellStr, width, height):\n",
    "        '''\n",
    "        Converting a string (with '#' representing obstacles and '.' representing free cells) to a grid\n",
    "        '''\n",
    "        self.width = width\n",
    "        self.height = height\n",
    "        self.cells = [[0 for _ in range(width)] for _ in range(height)]\n",
    "        cellLines = cellStr.split(\"\\n\")\n",
    "        i = 0\n",
    "        j = 0\n",
    "        for l in cellLines:\n",
    "            if len(l) != 0:\n",
    "                j = 0\n",
    "                for c in l:\n",
    "                    if c == '.':\n",
    "                        self.cells[i][j] = 0\n",
    "                    elif c == '#':\n",
    "                        self.cells[i][j] = 1\n",
    "                    else:\n",
    "                        continue\n",
    "                    j += 1\n",
    "                if j != width:\n",
    "                    raise Exception(\"Size Error. Map width = \", j, \", but must be\", width )\n",
    "                \n",
    "                i += 1\n",
    "\n",
    "        if i != height:\n",
    "            raise Exception(\"Size Error. Map height = \", i, \", but must be\", height )\n",
    "    \n",
    "     \n",
    "    def SetGridCells(self, width, height, gridCells):\n",
    "        '''\n",
    "        Initialization of map by list of cells.\n",
    "        '''\n",
    "        self.width = width\n",
    "        self.height = height\n",
    "        self.cells = gridCells\n",
    "\n",
    "\n",
    "    def inBounds(self, i, j):\n",
    "        '''\n",
    "        Check if the cell is on a grid.\n",
    "        '''\n",
    "        return (0 <= j < self.width) and (0 <= i < self.height)\n",
    "    \n",
    "\n",
    "    def Traversable(self, i, j):\n",
    "        '''\n",
    "        Check if the cell is not an obstacle.\n",
    "        '''\n",
    "        return not self.cells[i][j]\n",
    "\n",
    "\n",
    "    def GetNeighbors(self, i, j, diagonalMoves = False):\n",
    "        '''\n",
    "        Get a list of neighbouring cells as (i,j) tuples.\n",
    "        '''   \n",
    "        neighbors = []\n",
    "        #TODO\n",
    "        return neighbors"
   ]
  },
  {
   "cell_type": "markdown",
   "metadata": {},
   "source": [
    "Computes the cost of a transition from cell `(i1, j1)` to cell `(i2, j2)`. In case of 4-connected grid it is always equal to 1. However if other moves are allowed, the cost of a transition may vary."
   ]
  },
  {
   "cell_type": "code",
   "execution_count": 3,
   "metadata": {},
   "outputs": [],
   "source": [
    "def ComputeCost(i1, j1, i2, j2):\n",
    "    '''\n",
    "    Computes cost of simple moves between cells\n",
    "    '''\n",
    "    if abs(i1 - i2) + abs(j1 - j2) == 1: #cardinal move\n",
    "        return 1\n",
    "    else: #diagonal move\n",
    "        return math.sqrt(2) "
   ]
  },
  {
   "cell_type": "markdown",
   "metadata": {},
   "source": [
    "### Search Node Representation\n",
    "\n"
   ]
  },
  {
   "cell_type": "code",
   "execution_count": 4,
   "metadata": {},
   "outputs": [],
   "source": [
    "class Node:\n",
    "    '''\n",
    "    Node class represents a search node\n",
    "\n",
    "    - i, j: coordinates of corresponding grid element\n",
    "    - g: g-value of the node\n",
    "    - h: h-value of the node\n",
    "    - F: f-value of the node\n",
    "    - parent: pointer to the parent-node \n",
    "\n",
    "    You might want to add other fields, methods for Node, depending on how you prefer to implement OPEN/CLOSED further on\n",
    "    '''\n",
    "\n",
    "    def __init__(self, i, j, g = 0, h = 0, F = None, parent = None):\n",
    "        self.i = i\n",
    "        self.j = j\n",
    "        self.g = g\n",
    "        self.h = h\n",
    "        if F is None:\n",
    "            self.F = self.g + h\n",
    "        else:\n",
    "            self.F = F        \n",
    "        self.parent = parent\n",
    "    \n",
    "    \n",
    "    def __eq__(self, other):\n",
    "        return (self.i == other.i) and (self.j == other.j)\n",
    "    \n",
    "    def __lt__(self, other): #self < other (self has higher priority)\n",
    "        return self.F < other.F or (abs(self.F - other.F) < EPS and (self.g > other.g))"
   ]
  },
  {
   "cell_type": "markdown",
   "metadata": {},
   "source": [
    "### Visualization"
   ]
  },
  {
   "cell_type": "code",
   "execution_count": 5,
   "metadata": {
    "tags": []
   },
   "outputs": [],
   "source": [
    "def Draw(gridMap : Map, start : Node = None, goal : Node = None, path : list = None, nodesExpanded = None, nodesOpened = None):\n",
    "    '''\n",
    "    Auxiliary function that visualizes the enviromnet, the path and OPEN and CLOSED.\n",
    "    '''\n",
    "    k = 5\n",
    "    hIm = gridMap.height * k\n",
    "    wIm = gridMap.width * k\n",
    "    im = Image.new('RGB', (wIm, hIm), color = 'white')\n",
    "    draw = ImageDraw.Draw(im)\n",
    "    for i in range(gridMap.height):\n",
    "        for j in range(gridMap.width):\n",
    "            if(gridMap.cells[i][j] == 1):\n",
    "                draw.rectangle((j * k, i * k, (j + 1) * k - 1, (i + 1) * k - 1), fill=( 70, 80, 80 ))\n",
    "\n",
    "    if nodesOpened is not None:\n",
    "        for node in nodesOpened:\n",
    "            draw.rectangle((node.j * k, node.i * k, (node.j + 1) * k - 1, (node.i + 1) * k - 1), fill=(213, 219, 219), width=0)\n",
    "\n",
    "    if nodesExpanded is not None:\n",
    "        for node in nodesExpanded:\n",
    "            draw.rectangle((node.j * k, node.i * k, (node.j + 1) * k - 1, (node.i + 1) * k - 1), fill=( 131, 145, 146 ), width=0)\n",
    "\n",
    "    if path is not None:\n",
    "        for step in path:\n",
    "            if (step is not None):\n",
    "                if (gridMap.Traversable(step.i, step.j)):\n",
    "                    draw.rectangle((step.j * k, step.i * k, (step.j + 1) * k - 1, (step.i + 1) * k - 1), fill=(52, 152, 219), width=0)\n",
    "                else:\n",
    "                    draw.rectangle((step.j * k, step.i * k, (step.j + 1) * k - 1, (step.i + 1) * k - 1), fill=(230, 126, 34), width=0)\n",
    "\n",
    "    if (start is not None) and (gridMap.Traversable(start.i, start.j)):\n",
    "        draw.rectangle((start.j * k, start.i * k, (start.j + 1) * k - 1, (start.i + 1) * k - 1), fill=(40, 180, 99), width=0)\n",
    "    \n",
    "    if (goal is not None) and (gridMap.Traversable(goal.i, goal.j)):\n",
    "        draw.rectangle((goal.j * k, goal.i * k, (goal.j + 1) * k - 1, (goal.i + 1) * k - 1), fill=(231, 76, 60), width=0)\n",
    "\n",
    "\n",
    "    fig, ax = plt.subplots(dpi=150)\n",
    "    ax.axes.xaxis.set_visible(False)\n",
    "    ax.axes.yaxis.set_visible(False)\n",
    "    plt.imshow(np.asarray(im))\n",
    "    \n",
    "    \n"
   ]
  },
  {
   "cell_type": "markdown",
   "metadata": {},
   "source": [
    "Example of the visualization"
   ]
  },
  {
   "cell_type": "code",
   "execution_count": 6,
   "metadata": {
    "tags": []
   },
   "outputs": [
    {
     "data": {
      "image/png": "[encoded data removed]",
      "text/plain": [
       "<Figure size 900x600 with 1 Axes>"
      ]
     },
     "metadata": {
      "needs_background": "light"
     },
     "output_type": "display_data"
    }
   ],
   "source": [
    "height = 15\n",
    "width = 30\n",
    "mapstr = '''\n",
    ". . . . . . . . . . . . . . . . . . . . . # # . . . . . . .  \n",
    ". . . . . . . . . . . . . . . . . . . . . # # . . . . . . . \n",
    ". . . . . . . . . . . . . . . . . . . . . # # . . . . . . . \n",
    ". . . # # . . . . . . . . . . . . . . . . # # . . . . . . . \n",
    ". . . # # . . . . . . . . # # . . . . . . # # . . . . . . . \n",
    ". . . # # . . . . . . . . # # . . . . . . # # # # # . . . . \n",
    ". . . # # . . . . . . . . # # . . . . . . # # # # # . . . . \n",
    ". . . # # . . . . . . . . # # . . . . . . . . . . . . . . . \n",
    ". . . # # . . . . . . . . # # . . . . . . . . . . . . . . . \n",
    ". . . # # . . . . . . . . # # . . . . . . . . . . . . . . . \n",
    ". . . # # . . . . . . . . # # . . . . . . . . . . . . . . . \n",
    ". . . # # . . . . . . . . # # . . . . . . . . . . . . . . . \n",
    ". . . . . . . . . . . . . # # . . . . . . . . . . . . . . . \n",
    ". . . . . . . . . . . . . # # . . . . . . . . . . . . . . .\n",
    ". . . . . . . . . . . . . # # . . . . . . . . . . . . . . .\n",
    "'''\n",
    "\n",
    "testMap = Map()\n",
    "testMap.ReadFromString(mapstr, width, height)\n",
    "start = Node(1, 1)\n",
    "goal = Node(13, 28)\n",
    "Draw(testMap, start, goal)\n",
    "\n"
   ]
  },
  {
   "cell_type": "markdown",
   "metadata": {},
   "source": [
    "### Implementing OPEN and CLOSED\n",
    "Efficient implementation of OPEN and CLOSED is crucial for any search algorithm. Below you may find basic implementations that use lists to store the elements of OPEN and CLOSED. This is not very efficient. Your task is to create your own implementations.\n",
    "\n",
    "It's a good idea to modify CLOSED first (as it is pretty straghtforward to do so). Then check that everything is OK, i.e. the search algorithms work faster and the result is correct. Then proceed to modifying OPEN (which is not that trivial as might seem).\n",
    "\n",
    "PS: You may wish to add additional fields, methods, method-arguments etc. to your implementations.\n"
   ]
  },
  {
   "cell_type": "code",
   "execution_count": 7,
   "metadata": {},
   "outputs": [],
   "source": [
    "class OpenBase:\n",
    "\n",
    "    def __init__(self):\n",
    "        pass\n",
    "\n",
    "\n",
    "    def __len__(self):\n",
    "        pass\n",
    "\n",
    "\n",
    "    def __iter__(self):\n",
    "        pass\n",
    "\n",
    "\n",
    "    def isEmpty(self):\n",
    "        '''\n",
    "        isEmpty should inform whether the OPEN is exhausted or not in the former case the search main loop should be interrupted\n",
    "        '''\n",
    "        pass\n",
    "\n",
    "\n",
    "    def AddNode(self, node : Node, *args):\n",
    "        '''\n",
    "        AddNode is the method that puts (e.g. inserts or updates) the node to OPEN\n",
    "        When implementing it do not forget to handle all possible cases:\n",
    "         - node already in OPEN but the new g-value is better;\n",
    "         - node already in OPEN but the new g-value is worse;\n",
    "         - node is not in OPEN yet.\n",
    "        '''\n",
    "        pass\n",
    "\n",
    "\n",
    "    def GetBestNode(self, *args):\n",
    "        '''\n",
    "        GetBestNode is the method that \n",
    "         i) finds the best node, i.e. the one with the lowest f-value (f=g+h) (for Dijkstra h=0),\n",
    "         ii) removes it from OPEN and \n",
    "         iii) returns it\n",
    "        '''\n",
    "        pass\n",
    "\n"
   ]
  },
  {
   "cell_type": "code",
   "execution_count": 8,
   "metadata": {},
   "outputs": [],
   "source": [
    "class OpenList (OpenBase):\n",
    "\n",
    "    def __init__(self):\n",
    "        self.elements = []\n",
    "    \n",
    "\n",
    "    def __iter__(self):\n",
    "        return iter(self.elements)\n",
    "\n",
    "\n",
    "    def __len__(self):\n",
    "        return len(self.elements)\n",
    "\n",
    "\n",
    "    def isEmpty(self):\n",
    "        if len(self.elements) != 0:\n",
    "            return False\n",
    "        return True\n",
    "    \n",
    "\n",
    "    def GetBestNode(self, *args):\n",
    "        bestF = math.inf\n",
    "        bestCoord = 0\n",
    "        for i in range(len(self.elements)):\n",
    "            if self.elements[i].F < bestF:\n",
    "                bestCoord = i\n",
    "                bestF = self.elements[i].F\n",
    "                \n",
    "        best = self.elements.pop(bestCoord)\n",
    "        return best\n",
    "    \n",
    "\n",
    "    def AddNode(self, node : Node, *args):\n",
    "        for existingNode in self.elements:\n",
    "            if existingNode.i == node.i and existingNode.j == node.j:\n",
    "                if existingNode.g > node.g:\n",
    "                    existingNode.g = node.g\n",
    "                    existingNode.F = node.F\n",
    "                    existingNode.parent = node.parent\n",
    "                    return\n",
    "                else:\n",
    "                    return\n",
    "        self.elements.append(node)\n",
    "        return\n"
   ]
  },
  {
   "cell_type": "code",
   "execution_count": 9,
   "metadata": {},
   "outputs": [],
   "source": [
    "class ClosedBase:\n",
    "\n",
    "    def __init__(self):\n",
    "        pass\n",
    "\n",
    "\n",
    "    def __iter__(self):\n",
    "        pass\n",
    "    \n",
    "\n",
    "    def __len__(self):\n",
    "        pass\n",
    "    \n",
    "    \n",
    "    def AddNode(self, item : Node):\n",
    "        pass\n",
    "\n",
    "\n",
    "    def WasExpanded(self, item : Node):\n",
    "        pass\n",
    "\n"
   ]
  },
  {
   "cell_type": "code",
   "execution_count": 10,
   "metadata": {},
   "outputs": [],
   "source": [
    "class ClosedList (ClosedBase):\n",
    "\n",
    "    \n",
    "    def __init__(self):\n",
    "        self.elements = []\n",
    "\n",
    "\n",
    "    def __iter__(self):\n",
    "        return iter(self.elements)\n",
    "    \n",
    "\n",
    "    def __len__(self):\n",
    "        return len(self.elements)\n",
    "    \n",
    "\n",
    "    def AddNode(self, item : Node):\n",
    "        '''\n",
    "        AddNode is the method that inserts the node to CLOSED\n",
    "        '''\n",
    "        self.elements.append(item)\n",
    "     \n",
    "     \n",
    "    def WasExpanded(self, item : Node):\n",
    "        '''\n",
    "        WasExpanded is the method that checks if a node has been expanded\n",
    "        '''\n",
    "        return item in self.elements"
   ]
  },
  {
   "cell_type": "code",
   "execution_count": 11,
   "metadata": {},
   "outputs": [],
   "source": [
    "class YourOpen (OpenBase):\n",
    "    '''\n",
    "    !!!TODO!!!\n",
    "    Create your own modification of OPEN#\n",
    "    '''\n",
    "    \n",
    "    def __init__(self):\n",
    "        pass\n",
    "    \n",
    "    def __iter__(self):\n",
    "        pass\n",
    "    \n",
    "    def __len__(self):\n",
    "        pass\n",
    "\n",
    "    def isEmpty(self):\n",
    "        pass\n",
    "\n",
    "    def AddNode(self, *args):\n",
    "        pass\n",
    "\n",
    "    def GetBestNode(self, *args):\n",
    "        pass"
   ]
  },
  {
   "cell_type": "code",
   "execution_count": 14,
   "metadata": {},
   "outputs": [],
   "source": [
    "class YourClosed (ClosedBase):\n",
    "    '''\n",
    "    !!!TODO!!!\n",
    "    Create your own modification of CLOSED#\n",
    "    '''\n",
    "\n",
    "    def __init__(self):\n",
    "        pass\n",
    "\n",
    "\n",
    "    def __iter__(self):\n",
    "        pass\n",
    "    \n",
    "\n",
    "    def __len__(self):\n",
    "        pass\n",
    "\n",
    "\n",
    "    def AddNode(self, item : Node):\n",
    "        pass\n",
    "\n",
    "\n",
    "    def WasExpanded(self, item : Node):\n",
    "        pass"
   ]
  },
  {
   "cell_type": "markdown",
   "metadata": {},
   "source": [
    "### Validating the results\n"
   ]
  },
  {
   "cell_type": "code",
   "execution_count": 16,
   "metadata": {},
   "outputs": [],
   "source": [
    "def MakePath(goal):\n",
    "    '''\n",
    "    Creates a path by tracing parent pointers from the goal node to the start node\n",
    "    It also returns path's length.\n",
    "    '''\n",
    "\n",
    "    length = goal.g\n",
    "    current = goal\n",
    "    path = []\n",
    "    while current.parent:\n",
    "        path.append(current)\n",
    "        current = current.parent\n",
    "    path.append(current)\n",
    "    return path[::-1], length"
   ]
  },
  {
   "cell_type": "code",
   "execution_count": 17,
   "metadata": {},
   "outputs": [],
   "source": [
    "def ReadTaskFromFile(path):\n",
    "    '''\n",
    "    Reads map, start/goal positions and true value of path length between given start and goal from file by path. \n",
    "    '''\n",
    "\n",
    "    tasksFile = open(path)\n",
    "    count = 0\n",
    "    height = int(tasksFile.readline())\n",
    "    width = int(tasksFile.readline())\n",
    "    cells = [[0 for _ in range(width)] for _ in range(height)]\n",
    "    i = 0\n",
    "    j = 0\n",
    "\n",
    "    for l in tasksFile:\n",
    "        j = 0\n",
    "        for c in l:\n",
    "            if c == '.':\n",
    "                cells[i][j] = 0\n",
    "            elif c == '#':\n",
    "                cells[i][j] = 1\n",
    "            else:\n",
    "                continue\n",
    "            \n",
    "            j += 1\n",
    "            \n",
    "        if j != width:\n",
    "            raise Exception(\"Size Error. Map width = \", j, \", but must be\", width, \"(map line: \", i, \")\")\n",
    "                \n",
    "        i += 1\n",
    "        if(i == height):\n",
    "            break\n",
    "    \n",
    "    iStart = int(tasksFile.readline())\n",
    "    jStart = int(tasksFile.readline())\n",
    "    iGoal = int(tasksFile.readline())\n",
    "    jGoal = int(tasksFile.readline())\n",
    "    cardinalLength = float(tasksFile.readline())\n",
    "    diagonalLength = float(tasksFile.readline())\n",
    "    return (width, height, cells, iStart, jStart, iGoal, jGoal, cardinalLength, diagonalLength)"
   ]
  },
  {
   "cell_type": "markdown",
   "metadata": {},
   "source": [
    "`Simpletest` tests the pathfing algorithm on a single simple instance, `Massivetest` - on a series of a move involved instances. Both tests assume that the search function fits the following pattern:\n",
    "\n",
    "\n",
    "`Search(taskMap, start.i, start.j, goal.i, goal.j, *optional arguments*) -> (pathFound, lastState, CLOSED, OPEN)`, where\n",
    "\n",
    "- taskMap -- grid\n",
    "- start.i, start.j -- (i,j) coordinates of the start cell\n",
    "- goal.i, goal.j -- (i,j) coordinates of the goal cell\n",
    "- *optional arguments* -- additional parameters of the search function, passed with `*args`. Example of additional parameters you can see at Dijkstra and A* functions\n",
    "- pathFound -- `True` if path was found, `False` otherwise\n",
    "- lastState -- last state of the path. `None` if path was not found\n",
    "- CLOSED -- CLOSED set (at the last step)\n",
    "- OPEN -- OPEN set (at the last step)"
   ]
  },
  {
   "cell_type": "code",
   "execution_count": 18,
   "metadata": {},
   "outputs": [],
   "source": [
    "from random import randint\n",
    "\n",
    "def SimpleTest(SearchFunction, task, *args):\n",
    "    '''\n",
    "    SimpleTest runs SearchFunction on one task (use a number from 0 to 25 to choose a certain debug task on simple map or None to choose a random task from this pool) with *args as optional arguments and displays:\n",
    "     - 'Path found!' and some statistics -- path was found\n",
    "     - 'Path not found!' -- path was not found\n",
    "     - 'Execution error' -- an error occurred while executing the SearchFunction In first two cases function also draws visualisation of the task\n",
    "\n",
    "    '''\n",
    "    \n",
    "    height = 15\n",
    "    width = 30\n",
    "    mapstr = '''\n",
    ". . . . . . . . . . . . . . . . . . . . . # # . . . . . . .  \n",
    ". . . . . . . . . . . . . . . . . . . . . # # . . . . . . . \n",
    ". . . . . . . . . . . . . . . . . . . . . # # . . . . . . . \n",
    ". . . # # . . . . . . . . . . . . . . . . # # . . . . . . . \n",
    ". . . # # . . . . . . . . # # . . . . . . # # . . . . . . . \n",
    ". . . # # . . . . . . . . # # . . . . . . # # # # # . . . . \n",
    ". . . # # . . . . . . . . # # . . . . . . # # # # # . . . . \n",
    ". . . # # . . . . . . . . # # . . . . . . . . . . . . . . . \n",
    ". . . # # . . . . . . . . # # . . . . . . . . . . . . . . . \n",
    ". . . # # . . . . . . . . # # . . . . . . . . . . . . . . . \n",
    ". . . # # . . . . . . . . # # . . . . . . . . . . . . . . . \n",
    ". . . # # . . . . . . . . # # . . . . . . . . . . . . . . . \n",
    ". . . . . . . . . . . . . # # . . . . . . . . . . . . . . . \n",
    ". . . . . . . . . . . . . # # . . . . . . . . . . . . . . .\n",
    ". . . . . . . . . . . . . # # . . . . . . . . . . . . . . .\n",
    "'''\n",
    "\n",
    "    taskMap = Map()\n",
    "    taskMap.ReadFromString(mapstr, width, height)\n",
    "    starts = [(9, 0), (13, 0), (7, 28), (14, 29), (4, 1), (0, 17), (5, 6), (5, 20), (12, 2), (7, 28), (11, 9), (3, 2), (3, 17), (13, 20), (1, 1), (9, 10), (14, 6), (2, 0), (9, 28), (8, 6), (11, 6), (3, 0), (8, 9), (14, 7), (12, 4)]\n",
    "    goals = [(11, 20), (2, 19), (6, 5), (4, 18), (9, 20), (7, 0), (2, 25), (12, 4), (3, 25), (0, 12), (4, 23), (2, 24), (9, 2), (1, 6), (13, 29), (14, 29), (2, 28), (14, 16), (13, 0), (1, 27), (14, 25), (10, 20), (12, 28), (2, 29), (1, 29)]\n",
    "    cardLengths = [36, 30, 30, 21, 28, 24, 32, 27, 42, 23, 35, 37, 23, 26, 40, 36, 42, 28, 44, 36, 38, 29, 33, 42, 44]\n",
    "    diagLengths = [31.313708498984763, 24.72792206135786, 25.89949493661167, 15.727922061357859, 23.899494936611667,\\\n",
    "                   21.65685424949238, 27.899494936611667, 21.72792206135786, 34.97056274847714, 18.89949493661167,\\\n",
    "                   30.899494936611667, 32.89949493661167, 22.414213562373096, 21.899494936611667, 32.97056274847714,\\\n",
    "                   28.384776310850242, 34.970562748477136, 26.82842712474619, 35.798989873223334, 30.142135623730955,\\\n",
    "                   28.62741699796953, 24.899494936611667, 25.970562748477146, 34.970562748477136, 35.79898987322333] \n",
    "\n",
    "    if (task is None) or not (0 <= task < 25):\n",
    "        task = randint(0, 24)\n",
    "\n",
    "\n",
    "    start = Node(*starts[task])\n",
    "    goal = Node(*goals[task])\n",
    "    cardLength = cardLengths[task]\n",
    "    diagLength = diagLengths[task]\n",
    "    try:\n",
    "        result = SearchFunction(taskMap, start.i, start.j, goal.i, goal.j, *args)\n",
    "        nodesExpanded = result[2]\n",
    "        nodesOpened = result[3]\n",
    "        if result[0]:\n",
    "            path = MakePath(result[1])\n",
    "            correct = (int(path[1])  == int(cardLength) or abs(float(path[1]) - float(diagLength)) < 1e-6)\n",
    "            Draw(taskMap, start, goal, path[0], nodesExpanded, nodesOpened)\n",
    "            print(\"Path found! Length: \" + str(path[1]) + \". Nodes created: \" + str(len(nodesOpened) + len(nodesExpanded)) + \". Number of steps: \" + str(len(nodesExpanded)) + \". Correct: \" + str(correct))\n",
    "        else:\n",
    "            print(\"Path not found!\")\n",
    "\n",
    "    except Exception as e:\n",
    "        print(\"Execution error\")\n",
    "        print(e)"
   ]
  },
  {
   "cell_type": "code",
   "execution_count": 19,
   "metadata": {},
   "outputs": [],
   "source": [
    "def MassiveTest(SearchFunction, *args):\n",
    "    '''\n",
    "    MassiveTest runs SearchFunction on set of differnt tasks (from directory Data/) with *args as optional arguments and for every task displays one of these short reports:\n",
    "     - 'Path found!' and some statistics -- path was found\n",
    "     - 'Path not found!' -- path was not found\n",
    "     - 'Execution error' -- an error occurred while executing the SearchFunction In first two cases function also draws visualisation of the task.\n",
    "    \n",
    "    Massive test return a dictionary with statistics of path finding. Dictionary contains next fields:\n",
    "     - \"corr\" -- the correctness of every path length (True/False)\n",
    "     - \"len\" -- the length of every path (0.0 if path not found)\n",
    "     - \"nc\" -- the number of created nodes for every task execution\n",
    "     - \"st\" -- the number of steps of algorithm for every task execution\n",
    "    '''\n",
    "    \n",
    "    stat = dict()\n",
    "    stat[\"corr\"] = []\n",
    "    stat[\"len\"] = []\n",
    "    stat[\"nc\"] = []\n",
    "    stat[\"st\"] = []\n",
    "    taskNum = 9\n",
    "    taskMap = Map()\n",
    "    for taskCount in range(taskNum):\n",
    "        taskFileName = \"Data/\" + str(taskCount) + \".map\"\n",
    "        width, height, cells, iStart, jStart, iGoal, jGoal, cardinalLength, diagonalLength = ReadTaskFromFile(taskFileName)\n",
    "        taskMap.SetGridCells(width,height,cells)\n",
    "        try:\n",
    "            result = SearchFunction(taskMap, iStart, jStart, iGoal, jGoal, *args)\n",
    "            nodesExpanded = result[2]\n",
    "            nodesOpened = result[3]\n",
    "            if result[0]:\n",
    "                path = MakePath(result[1]) \n",
    "                stat[\"len\"].append(path[1])\n",
    "                correct = (int(path[1])  == int(cardinalLength) or abs(float(path[1]) - float(diagonalLength)) < 1e-6)\n",
    "                stat[\"corr\"].append(correct)\n",
    "                # Draw(taskMap, Node(iStart, jStart), Node(iGoal, jGoal), path[0], nodesExpanded, nodesOpened)\n",
    "                print(\"Path found! Length: \" + str(path[1]) + \". Nodes created: \" + str(len(nodesOpened) + len(nodesExpanded)) + \". Number of steps: \" + str(len(nodesExpanded)) + \". Correct: \" + str(correct))\n",
    "            else:\n",
    "                print(\"Path not found!\")\n",
    "                stat[\"corr\"].append(False)\n",
    "                stat[\"len\"].append(0.0)\n",
    "\n",
    "            stat[\"nc\"].append(len(nodesOpened) + len(nodesExpanded))\n",
    "            stat[\"st\"].append(len(nodesExpanded))\n",
    "\n",
    "        except Exception as e:\n",
    "            print(\"Execution error\")\n",
    "            print(e)\n",
    "\n",
    "    return stat"
   ]
  },
  {
   "cell_type": "markdown",
   "metadata": {},
   "source": [
    "## Dijkstra algorithm\n",
    "\n",
    "The input is:\n",
    "- map\n",
    "- start/goal\n",
    "- heuristic function (None by defalut)\n",
    "- the references to the implementation of OPEN and CLOSED (defaults are provided)\n",
    "\n",
    "Please note, that technically there is no need to pass heuristic function to Dijkstra's algorithm. However to unify it with A* we keep this parameter as a take-in argument.\n",
    "\n",
    "The output is:\n",
    "- path found flag (`true` or `false`)\n",
    "- last node of the path (so one can unwind it using the parent-pointers further on)\n",
    "- OPEN and CLOSED nodes for further visualization purposes"
   ]
  },
  {
   "cell_type": "code",
   "execution_count": 20,
   "metadata": {},
   "outputs": [],
   "source": [
    "def Dijkstra(gridMap : Map, iStart : int, jStart : int, iGoal : int, jGoal : int, heuristicFunction = None, openType = OpenList, closedType = ClosedList, diagonalMoves = False):\n",
    "#     TODO\n",
    "    OPEN = openType()\n",
    "    CLOSED = closedType()\n",
    "    \n",
    "\n",
    "    return (False, None, CLOSED, OPEN)"
   ]
  },
  {
   "cell_type": "markdown",
   "metadata": {},
   "source": [
    "Now let's test the implementation."
   ]
  },
  {
   "cell_type": "code",
   "execution_count": 22,
   "metadata": {
    "scrolled": true,
    "tags": []
   },
   "outputs": [
    {
     "name": "stdout",
     "output_type": "stream",
     "text": [
      "Path found! Length: 36. Nodes created: 284. Number of steps: 276. Correct: True\n",
      "Wall time: 26.6 ms\n"
     ]
    },
    {
     "data": {
      "image/png": "[encoded data removed]",
      "text/plain": [
       "<Figure size 900x600 with 1 Axes>"
      ]
     },
     "metadata": {
      "needs_background": "light"
     },
     "output_type": "display_data"
    }
   ],
   "source": [
    "#This should work correct (but somewhat slow) in case your implementatation of Dijkstra is correct\n",
    "%time SimpleTest(Dijkstra, 0, None, OpenList, ClosedList)"
   ]
  },
  {
   "cell_type": "code",
   "execution_count": 23,
   "metadata": {},
   "outputs": [
    {
     "name": "stdout",
     "output_type": "stream",
     "text": [
      "Path found! Length: 36. Nodes created: 279. Number of steps: 272. Correct: True\n",
      "Wall time: 19 ms\n"
     ]
    },
    {
     "data": {
      "image/png": "[encoded data removed]",
      "text/plain": [
       "<Figure size 900x600 with 1 Axes>"
      ]
     },
     "metadata": {
      "needs_background": "light"
     },
     "output_type": "display_data"
    }
   ],
   "source": [
    "#This should work better (=faster) in case:\n",
    "# i) your implementation of Dijkstra is correct\n",
    "# ii) your implementation of OPEN/CLOSED is efficient\n",
    "%time SimpleTest(Dijkstra, 0, None, YourOpen, YourClosed)"
   ]
  },
  {
   "cell_type": "code",
   "execution_count": 24,
   "metadata": {},
   "outputs": [
    {
     "name": "stdout",
     "output_type": "stream",
     "text": [
      "Path found! Length: 31.313708498984763. Nodes created: 287. Number of steps: 271. Correct: True\n",
      "Wall time: 16.9 ms\n"
     ]
    },
    {
     "data": {
      "image/png": "[encoded data removed]",
      "text/plain": [
       "<Figure size 900x600 with 1 Axes>"
      ]
     },
     "metadata": {
      "needs_background": "light"
     },
     "output_type": "display_data"
    }
   ],
   "source": [
    "%time SimpleTest(Dijkstra, 0, None, YourOpen, YourClosed, True)"
   ]
  },
  {
   "cell_type": "code",
   "execution_count": 25,
   "metadata": {
    "tags": []
   },
   "outputs": [
    {
     "name": "stdout",
     "output_type": "stream",
     "text": [
      "Path found! Length: 64. Nodes created: 1774. Number of steps: 1749. Correct: True\n",
      "Path found! Length: 197. Nodes created: 7452. Number of steps: 7449. Correct: True\n",
      "Path found! Length: 462. Nodes created: 45904. Number of steps: 45895. Correct: True\n",
      "Path found! Length: 498. Nodes created: 44451. Number of steps: 44434. Correct: True\n",
      "Path found! Length: 479. Nodes created: 47542. Number of steps: 47536. Correct: True\n",
      "Path found! Length: 402. Nodes created: 28175. Number of steps: 28173. Correct: True\n",
      "Path found! Length: 721. Nodes created: 112531. Number of steps: 112458. Correct: True\n",
      "Path found! Length: 678. Nodes created: 77418. Number of steps: 77361. Correct: True\n",
      "Path found! Length: 683. Nodes created: 95900. Number of steps: 95873. Correct: True\n",
      "Wall time: 4.96 s\n"
     ]
    }
   ],
   "source": [
    "#Running Dijkstra with the default (list-based) implementation of OPEN/CLOSED will take looooots of time.\n",
    "#So try running it with your (efficient) implementation of Open/Closed\n",
    "%time dijkStat = MassiveTest(Dijkstra, None, YourOpen, YourClosed, False)"
   ]
  },
  {
   "cell_type": "code",
   "execution_count": 26,
   "metadata": {},
   "outputs": [
    {
     "name": "stdout",
     "output_type": "stream",
     "text": [
      "Path found! Length: 48.183766184073555. Nodes created: 1767. Number of steps: 1704. Correct: True\n",
      "Path found! Length: 183.5269119345813. Nodes created: 7450. Number of steps: 7441. Correct: True\n",
      "Path found! Length: 369.4457428549503. Nodes created: 45922. Number of steps: 45908. Correct: True\n",
      "Path found! Length: 397.8305191658005. Nodes created: 44471. Number of steps: 44447. Correct: True\n",
      "Path found! Length: 360.0853531617398. Nodes created: 47545. Number of steps: 47538. Correct: True\n",
      "Path found! Length: 344.59292911256387. Nodes created: 28178. Number of steps: 28176. Correct: True\n",
      "Path found! Length: 564.5950211536186. Nodes created: 113988. Number of steps: 113943. Correct: True\n",
      "Path found! Length: 536.2396820942909. Nodes created: 77489. Number of steps: 77395. Correct: True\n",
      "Path found! Length: 589.2741699796965. Nodes created: 96066. Number of steps: 96039. Correct: True\n",
      "Wall time: 8.54 s\n"
     ]
    }
   ],
   "source": [
    "#running massive test of Dijkstra algorithm on 8-connected grids\n",
    "%time dijkDiagStat = MassiveTest(Dijkstra, None, YourOpen, YourClosed, True)"
   ]
  },
  {
   "cell_type": "markdown",
   "metadata": {},
   "source": [
    "## A* algorithm"
   ]
  },
  {
   "cell_type": "code",
   "execution_count": 27,
   "metadata": {},
   "outputs": [],
   "source": [
    "def DiagonalDistance(i1, j1, i2, j2):\n",
    "    #TODO"
   ]
  },
  {
   "cell_type": "code",
   "execution_count": 28,
   "metadata": {},
   "outputs": [],
   "source": [
    "def ManhattanDistance(i1, j1, i2, j2):\n",
    "    #TODO"
   ]
  },
  {
   "cell_type": "code",
   "execution_count": 29,
   "metadata": {},
   "outputs": [],
   "source": [
    "def EuclideanDistance(i1, j1, i2, j2):\n",
    "    return math.sqrt((i1 - i2)**2 + (j1 - j2)**2)"
   ]
  },
  {
   "cell_type": "code",
   "execution_count": 30,
   "metadata": {},
   "outputs": [],
   "source": [
    "def AStar(gridMap : Map, iStart : int, jStart : int, iGoal : int, jGoal : int, heuristicFunction = ManhattanDistance, openType = OpenList, closedType = ClosedList, diagonalMoves = False):\n",
    "    '''\n",
    "    !!!TODO!!!\n",
    "    '''\n",
    "    \n",
    "    OPEN = openType()\n",
    "    CLOSED = closedType()\n",
    "\n",
    "    return False, None, CLOSED, OPEN"
   ]
  },
  {
   "cell_type": "code",
   "execution_count": 32,
   "metadata": {
    "tags": []
   },
   "outputs": [
    {
     "name": "stdout",
     "output_type": "stream",
     "text": [
      "Path found! Length: 36. Nodes created: 245. Number of steps: 215. Correct: True\n",
      "Wall time: 31 ms\n"
     ]
    },
    {
     "data": {
      "image/png": "[encoded data removed]",
      "text/plain": [
       "<Figure size 900x600 with 1 Axes>"
      ]
     },
     "metadata": {
      "needs_background": "light"
     },
     "output_type": "display_data"
    }
   ],
   "source": [
    "%time SimpleTest(AStar, 0, ManhattanDistance, OpenList, ClosedList)"
   ]
  },
  {
   "cell_type": "code",
   "execution_count": 33,
   "metadata": {},
   "outputs": [
    {
     "name": "stdout",
     "output_type": "stream",
     "text": [
      "Path found! Length: 36. Nodes created: 245. Number of steps: 215. Correct: True\n",
      "Wall time: 21 ms\n"
     ]
    },
    {
     "data": {
      "image/png": "[encoded data removed]",
      "text/plain": [
       "<Figure size 900x600 with 1 Axes>"
      ]
     },
     "metadata": {
      "needs_background": "light"
     },
     "output_type": "display_data"
    }
   ],
   "source": [
    "%time SimpleTest(AStar, 0, ManhattanDistance, OpenList, YourClosed)"
   ]
  },
  {
   "cell_type": "code",
   "execution_count": 34,
   "metadata": {},
   "outputs": [
    {
     "name": "stdout",
     "output_type": "stream",
     "text": [
      "Path found! Length: 36. Nodes created: 205. Number of steps: 150. Correct: True\n",
      "Wall time: 21 ms\n"
     ]
    },
    {
     "data": {
      "image/png": "[encoded data removed]",
      "text/plain": [
       "<Figure size 900x600 with 1 Axes>"
      ]
     },
     "metadata": {
      "needs_background": "light"
     },
     "output_type": "display_data"
    }
   ],
   "source": [
    "%time SimpleTest(AStar, 0, ManhattanDistance, YourOpen, YourClosed)"
   ]
  },
  {
   "cell_type": "code",
   "execution_count": 35,
   "metadata": {},
   "outputs": [
    {
     "name": "stdout",
     "output_type": "stream",
     "text": [
      "Path found! Length: 31.313708498984763. Nodes created: 223. Number of steps: 187. Correct: True\n",
      "Wall time: 16.5 ms\n"
     ]
    },
    {
     "data": {
      "image/png": "[encoded data removed]",
      "text/plain": [
       "<Figure size 900x600 with 1 Axes>"
      ]
     },
     "metadata": {
      "needs_background": "light"
     },
     "output_type": "display_data"
    }
   ],
   "source": [
    "%time SimpleTest(AStar, 0, DiagonalDistance, YourOpen, YourClosed, True)"
   ]
  },
  {
   "cell_type": "code",
   "execution_count": 36,
   "metadata": {},
   "outputs": [
    {
     "name": "stdout",
     "output_type": "stream",
     "text": [
      "Path found! Length: 31.313708498984763. Nodes created: 233. Number of steps: 199. Correct: True\n",
      "Wall time: 16.5 ms\n"
     ]
    },
    {
     "data": {
      "image/png": "[encoded data removed]",
      "text/plain": [
       "<Figure size 900x600 with 1 Axes>"
      ]
     },
     "metadata": {
      "needs_background": "light"
     },
     "output_type": "display_data"
    }
   ],
   "source": [
    "%time SimpleTest(AStar, 0, EuclideanDistance, YourOpen, YourClosed, True)"
   ]
  },
  {
   "cell_type": "code",
   "execution_count": 37,
   "metadata": {},
   "outputs": [
    {
     "name": "stdout",
     "output_type": "stream",
     "text": [
      "Path found! Length: 64. Nodes created: 178. Number of steps: 65. Correct: True\n",
      "Path found! Length: 197. Nodes created: 3478. Number of steps: 3341. Correct: True\n",
      "Path found! Length: 462. Nodes created: 2904. Number of steps: 2164. Correct: True\n",
      "Path found! Length: 498. Nodes created: 27348. Number of steps: 27045. Correct: True\n",
      "Path found! Length: 479. Nodes created: 24221. Number of steps: 23455. Correct: True\n",
      "Path found! Length: 402. Nodes created: 3632. Number of steps: 3062. Correct: True\n",
      "Path found! Length: 721. Nodes created: 75050. Number of steps: 74525. Correct: True\n",
      "Path found! Length: 678. Nodes created: 49830. Number of steps: 48860. Correct: True\n",
      "Path found! Length: 683. Nodes created: 29534. Number of steps: 28092. Correct: True\n",
      "Wall time: 3.28 s\n"
     ]
    }
   ],
   "source": [
    "#running massive test of A* on 4-connected grids with Manhattan-distance heuristic\n",
    "%time astStat = MassiveTest(AStar, ManhattanDistance, YourOpen, YourClosed, False)"
   ]
  },
  {
   "cell_type": "code",
   "execution_count": 38,
   "metadata": {},
   "outputs": [
    {
     "name": "stdout",
     "output_type": "stream",
     "text": [
      "Path found! Length: 48.183766184073555. Nodes created: 164. Number of steps: 38. Correct: True\n",
      "Path found! Length: 183.5269119345813. Nodes created: 3753. Number of steps: 3559. Correct: True\n",
      "Path found! Length: 397.73001410241216. Nodes created: 7265. Number of steps: 6534. Correct: False\n",
      "Path found! Length: 397.8305191658005. Nodes created: 21044. Number of steps: 20500. Correct: True\n",
      "Path found! Length: 360.6711395993667. Nodes created: 1929. Number of steps: 1059. Correct: False\n",
      "Path found! Length: 346.5929291125639. Nodes created: 5178. Number of steps: 4488. Correct: False\n",
      "Path found! Length: 564.5950211536186. Nodes created: 65028. Number of steps: 64422. Correct: True\n",
      "Path found! Length: 573.730014102412. Nodes created: 12310. Number of steps: 11348. Correct: False\n",
      "Path found! Length: 619.7594513539351. Nodes created: 26921. Number of steps: 25924. Correct: False\n",
      "Wall time: 3.47 s\n"
     ]
    }
   ],
   "source": [
    "#running massive test of A* on 8-connected grids with Manhattan-distance heuristic\n",
    "%time astManhStat = MassiveTest(AStar, ManhattanDistance, YourOpen, YourClosed, True)"
   ]
  },
  {
   "cell_type": "code",
   "execution_count": 39,
   "metadata": {},
   "outputs": [
    {
     "name": "stdout",
     "output_type": "stream",
     "text": [
      "Path found! Length: 48.183766184073555. Nodes created: 546. Number of steps: 403. Correct: True\n",
      "Path found! Length: 183.5269119345813. Nodes created: 5117. Number of steps: 4931. Correct: True\n",
      "Path found! Length: 369.44574285495037. Nodes created: 24467. Number of steps: 23670. Correct: True\n",
      "Path found! Length: 397.8305191658005. Nodes created: 25599. Number of steps: 25201. Correct: True\n",
      "Path found! Length: 360.0853531617398. Nodes created: 19260. Number of steps: 18495. Correct: True\n",
      "Path found! Length: 344.5929291125639. Nodes created: 16579. Number of steps: 16042. Correct: True\n",
      "Path found! Length: 564.5950211536186. Nodes created: 71364. Number of steps: 70894. Correct: True\n",
      "Path found! Length: 536.2396820942909. Nodes created: 36943. Number of steps: 36244. Correct: True\n",
      "Path found! Length: 589.2741699796965. Nodes created: 57286. Number of steps: 56128. Correct: True\n",
      "Wall time: 5.97 s\n"
     ]
    }
   ],
   "source": [
    "#running massive test of A* on 8-connected grids with Euclidean-distance heuristic\n",
    "%time astEuclidStat = MassiveTest(AStar, EuclideanDistance, YourOpen, YourClosed, True)"
   ]
  },
  {
   "cell_type": "code",
   "execution_count": 40,
   "metadata": {},
   "outputs": [
    {
     "name": "stdout",
     "output_type": "stream",
     "text": [
      "Path found! Length: 48.183766184073555. Nodes created: 286. Number of steps: 155. Correct: True\n",
      "Path found! Length: 183.5269119345813. Nodes created: 4759. Number of steps: 4581. Correct: True\n",
      "Path found! Length: 369.44574285495037. Nodes created: 16731. Number of steps: 15786. Correct: True\n",
      "Path found! Length: 397.8305191658005. Nodes created: 24282. Number of steps: 23857. Correct: True\n",
      "Path found! Length: 360.0853531617398. Nodes created: 12696. Number of steps: 11866. Correct: True\n",
      "Path found! Length: 344.5929291125639. Nodes created: 13457. Number of steps: 12918. Correct: True\n",
      "Path found! Length: 564.5950211536186. Nodes created: 69557. Number of steps: 69063. Correct: True\n",
      "Path found! Length: 536.2396820942909. Nodes created: 31305. Number of steps: 30562. Correct: True\n",
      "Path found! Length: 589.2741699796966. Nodes created: 47115. Number of steps: 45829. Correct: True\n",
      "Wall time: 5.5 s\n"
     ]
    }
   ],
   "source": [
    "#running massive test of A* on 8-connected grids with Diagonal-distance heuristic\n",
    "%time astDiagStat = MassiveTest(AStar, DiagonalDistance, YourOpen, YourClosed, True)"
   ]
  },
  {
   "cell_type": "markdown",
   "metadata": {},
   "source": [
    "# Analysis of results\n",
    "First of all lets compare Dijkstra and A* algorithms on 4-connected grids\n",
    "\n",
    "Secondly lets compare A* with different heuristics on 8-connected grids\n",
    "\n",
    "Additionally you can compare Dijkstra and A* algorithms on 8-connected grids or A* with different heuristics on 4-connected grids"
   ]
  },
  {
   "cell_type": "markdown",
   "metadata": {},
   "source": [
    "![2](./Image/3.png)"
   ]
  },
  {
   "cell_type": "markdown",
   "metadata": {},
   "source": [
    "## Part 1. Dijkstra vs A* on 4-connected grids"
   ]
  },
  {
   "cell_type": "code",
   "execution_count": 41,
   "metadata": {},
   "outputs": [
    {
     "data": {
      "image/png": "[encoded data removed]",
      "text/plain": [
       "<Figure size 1080x720 with 9 Axes>"
      ]
     },
     "metadata": {
      "needs_background": "light"
     },
     "output_type": "display_data"
    }
   ],
   "source": [
    "fig, axs = plt.subplots(3, 3, figsize=(15,10))\n",
    "fig.suptitle('Average path length')\n",
    "for i in range(9):\n",
    "    ax = axs[i // 3, i % 3]\n",
    "    ax.set_title(str(i) + \" task\")\n",
    "    alg = ['A*', 'Dijkstra']\n",
    "    lens = [astStat['len'][i], dijkStat['len'][i]]\n",
    "    ax.bar(alg, lens)\n",
    "plt.show()"
   ]
  },
  {
   "cell_type": "code",
   "execution_count": 42,
   "metadata": {},
   "outputs": [
    {
     "data": {
      "image/png": "[encoded data removed]",
      "text/plain": [
       "<Figure size 1080x720 with 9 Axes>"
      ]
     },
     "metadata": {
      "needs_background": "light"
     },
     "output_type": "display_data"
    }
   ],
   "source": [
    "fig, axs = plt.subplots(3, 3, figsize=(15,10))\n",
    "fig.suptitle('Average number of created nodes')\n",
    "for i in range(9):\n",
    "    ax = axs[i // 3, i % 3]\n",
    "    ax.set_title(str(i) + \" task\")\n",
    "    alg = ['A*', 'Dijkstra']\n",
    "    ncs = [astStat['nc'][i], dijkStat['nc'][i]]\n",
    "    ax.bar(alg, ncs)\n",
    "plt.show()"
   ]
  },
  {
   "cell_type": "code",
   "execution_count": 43,
   "metadata": {
    "scrolled": true
   },
   "outputs": [
    {
     "data": {
      "image/png": "[encoded data removed]",
      "text/plain": [
       "<Figure size 1080x720 with 9 Axes>"
      ]
     },
     "metadata": {
      "needs_background": "light"
     },
     "output_type": "display_data"
    }
   ],
   "source": [
    "fig, axs = plt.subplots(3, 3, figsize=(15,10))\n",
    "fig.suptitle('Average number of steps')\n",
    "for i in range(9):\n",
    "    ax = axs[i // 3, i % 3]\n",
    "    ax.set_title(str(i) + \" task\")\n",
    "    alg = ['A*', 'Dijkstra']\n",
    "    sts = [astStat['st'][i], dijkStat['st'][i]]\n",
    "    ax.bar(alg, sts)\n",
    "plt.show()"
   ]
  },
  {
   "cell_type": "markdown",
   "metadata": {},
   "source": [
    "## Part 2. A* with different heuristics on 8-connected grids"
   ]
  },
  {
   "cell_type": "code",
   "execution_count": 44,
   "metadata": {},
   "outputs": [
    {
     "data": {
      "image/png": "[encoded data removed]",
      "text/plain": [
       "<Figure size 1080x720 with 9 Axes>"
      ]
     },
     "metadata": {
      "needs_background": "light"
     },
     "output_type": "display_data"
    }
   ],
   "source": [
    "fig, axs = plt.subplots(3, 3, figsize=(15,10))\n",
    "fig.suptitle('Average path length')\n",
    "for i in range(9):\n",
    "    ax = axs[i // 3, i % 3]\n",
    "    ax.set_title(str(i) + \" task\")\n",
    "    alg = ['Manhattan', 'Euclidean', 'Diagonal']\n",
    "    lens = [astManhStat['len'][i], astEuclidStat['len'][i], astDiagStat['len'][i]]\n",
    "    ax.bar(alg, lens)\n",
    "plt.show()"
   ]
  },
  {
   "cell_type": "code",
   "execution_count": 45,
   "metadata": {},
   "outputs": [
    {
     "data": {
      "image/png": "[encoded data removed]",
      "text/plain": [
       "<Figure size 1080x720 with 9 Axes>"
      ]
     },
     "metadata": {
      "needs_background": "light"
     },
     "output_type": "display_data"
    }
   ],
   "source": [
    "fig, axs = plt.subplots(3, 3, figsize=(15,10))\n",
    "fig.suptitle('Average number of created nodes')\n",
    "for i in range(9):\n",
    "    ax = axs[i // 3, i % 3]\n",
    "    ax.set_title(str(i) + \" task\")\n",
    "    alg = ['Manhattan', 'Euclidean', 'Diagonal']\n",
    "    ncs = [astManhStat['nc'][i], astEuclidStat['nc'][i], astDiagStat['nc'][i]]\n",
    "    ax.bar(alg, ncs)\n",
    "plt.show()"
   ]
  },
  {
   "cell_type": "code",
   "execution_count": 46,
   "metadata": {},
   "outputs": [
    {
     "data": {
      "image/png": "[encoded data removed]",
      "text/plain": [
       "<Figure size 1080x720 with 9 Axes>"
      ]
     },
     "metadata": {
      "needs_background": "light"
     },
     "output_type": "display_data"
    }
   ],
   "source": [
    "fig, axs = plt.subplots(3, 3, figsize=(15,10))\n",
    "fig.suptitle('Average number of steps')\n",
    "for i in range(9):\n",
    "    ax = axs[i // 3, i % 3]\n",
    "    ax.set_title(str(i) + \" task\")\n",
    "    alg = ['Manhattan', 'Euclidean', 'Diagonal']\n",
    "    ncs = [astManhStat['st'][i], astEuclidStat['st'][i], astDiagStat['st'][i]]\n",
    "    ax.bar(alg, ncs)\n",
    "plt.show()"
   ]
  },
  {
   "cell_type": "code",
   "execution_count": null,
   "metadata": {},
   "outputs": [],
   "source": []
  }
 ],
 "metadata": {
  "kernelspec": {
   "display_name": "Python 3",
   "language": "python",
   "name": "python3"
  },
  "language_info": {
   "codemirror_mode": {
    "name": "ipython",
    "version": 3
   },
   "file_extension": ".py",
   "mimetype": "text/x-python",
   "name": "python",
   "nbconvert_exporter": "python",
   "pygments_lexer": "ipython3",
   "version": "3.8.8"
  }
 },
 "nbformat": 4,
 "nbformat_minor": 2
}
