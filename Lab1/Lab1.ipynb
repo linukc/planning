{
  "nbformat": 4,
  "nbformat_minor": 0,
  "metadata": {
    "kernelspec": {
      "display_name": "Python 3",
      "language": "python",
      "name": "python3"
    },
    "language_info": {
      "codemirror_mode": {
        "name": "ipython",
        "version": 3
      },
      "file_extension": ".py",
      "mimetype": "text/x-python",
      "name": "python",
      "nbconvert_exporter": "python",
      "pygments_lexer": "ipython3",
      "version": "3.8.8"
    },
    "colab": {
      "name": "Lab1.ipynb",
      "provenance": [],
      "collapsed_sections": [],
      "include_colab_link": true
    }
  },
  "cells": [
    {
      "cell_type": "markdown",
      "metadata": {
        "id": "view-in-github",
        "colab_type": "text"
      },
      "source": [
        "<a href=\"https://colab.research.google.com/github/linukc/planning/blob/lab1/Lab1.ipynb\" target=\"_parent\"><img src=\"https://colab.research.google.com/assets/colab-badge.svg\" alt=\"Open In Colab\"/></a>"
      ]
    },
    {
      "cell_type": "markdown",
      "metadata": {
        "id": "JYQyNOf2Xot2"
      },
      "source": [
        "# Path Planning On a Grid"
      ]
    },
    {
      "cell_type": "code",
      "metadata": {
        "colab": {
          "base_uri": "https://localhost:8080/"
        },
        "id": "5uWrVHjKX6a_",
        "outputId": "0fd0b167-4119-464d-90b3-124e81033064"
      },
      "source": [
        "from google.colab import drive\n",
        "drive.mount('/content/drive')"
      ],
      "execution_count": null,
      "outputs": [
        {
          "output_type": "stream",
          "text": [
            "Mounted at /content/drive\n"
          ],
          "name": "stdout"
        }
      ]
    },
    {
      "cell_type": "markdown",
      "metadata": {
        "id": "oIpItuDGXot9"
      },
      "source": [
        "![1](./Image/1.png)"
      ]
    },
    {
      "cell_type": "markdown",
      "metadata": {
        "id": "Qn3aK_ijXot-"
      },
      "source": [
        "In this lab we consider the problem of finding a (shortest) path on a graph of special structure, widely used in robotics and computer games, i.e. a grid. Grid is composed of the free and blocked cells and an agent may move from one free cell to the other. The connectivity of the grid may vary, e.g. grid might be 4-connected when only cardinal moves are allowed, 8-connected when diagonal moves are allowed as well, etc. \n",
        "\n",
        "**In this lab we assume that the grid can be either 4-connected or 8-connected**. When grid is 4-connected only moves into the cardinal directions (N,E,W,S) are allowed. The cost of each move is uniform, i.e. 1. When grid is 8-connected diagonal moves are additionally allowed. The cost of diagonal moves is sqrt(2). \n",
        "\n",
        "We will consider two algorithms for grid-based pathfinding: `Dijkstra`'s algorithm and `A*`. Both of these algorithms can be implemented in a way that the difference might seem negligible. I.e. `Dijkstra`'s algorithm uses g-values to prioritize search-nodes in OPEN, while `A*` do this by utilizing f-values, where f(n)=g(n)+h(n), where h(n) is an admissible heuristic. This subtle difference, however, might severely influence the performance as will see further on.\n",
        "\n",
        "So let's go for it!"
      ]
    },
    {
      "cell_type": "markdown",
      "metadata": {
        "id": "5XnT8SPlXot_"
      },
      "source": [
        "![2](./Image/2.png)"
      ]
    },
    {
      "cell_type": "markdown",
      "metadata": {
        "id": "D-_oQmuLXouA"
      },
      "source": [
        "You task is to implement `Dijkstra` and `A*` by filling up the missing parts of the code. \n",
        "\n",
        "Run every cell of the notebook, completing the tasks described in them. Good luck!"
      ]
    },
    {
      "cell_type": "code",
      "metadata": {
        "id": "9NtzyIJUXouB"
      },
      "source": [
        "from PIL import Image, ImageDraw\n",
        "import numpy as np\n",
        "import matplotlib.pyplot as plt\n",
        "import math\n",
        "from sys import float_info\n",
        "EPS = float_info.epsilon\n",
        "%matplotlib inline"
      ],
      "execution_count": null,
      "outputs": []
    },
    {
      "cell_type": "markdown",
      "metadata": {
        "id": "QaoNqYZtXouC"
      },
      "source": [
        "### Grid map representation \n",
        "\n",
        "Square grid map class represents the environment for our moving agent\n",
        "\n",
        "- width -- the number of columns in the grid\n",
        "- height -- the number of rows in the grid\n",
        "- cells -- the binary matrix, that represents the grid. 0 - cell is traversable, 1 - cell is blocked"
      ]
    },
    {
      "cell_type": "code",
      "metadata": {
        "id": "XNfU4DaFXouD"
      },
      "source": [
        "class Map:\n",
        "\n",
        "    # \n",
        "    def __init__(self):\n",
        "        '''\n",
        "        Default constructor\n",
        "        '''\n",
        "\n",
        "        self.width = 0\n",
        "        self.height = 0\n",
        "        self.cells = []\n",
        "    \n",
        "\n",
        "    def ReadFromString(self, cellStr, width, height):\n",
        "        '''\n",
        "        Converting a string (with '#' representing obstacles and '.' representing free cells) to a grid\n",
        "        '''\n",
        "        self.width = width\n",
        "        self.height = height\n",
        "        self.cells = [[0 for _ in range(width)] for _ in range(height)]\n",
        "        cellLines = cellStr.split(\"\\n\")\n",
        "        i = 0\n",
        "        j = 0\n",
        "        for l in cellLines:\n",
        "            if len(l) != 0:\n",
        "                j = 0\n",
        "                for c in l:\n",
        "                    if c == '.':\n",
        "                        self.cells[i][j] = 0\n",
        "                    elif c == '#':\n",
        "                        self.cells[i][j] = 1\n",
        "                    else:\n",
        "                        continue\n",
        "                    j += 1\n",
        "                if j != width:\n",
        "                    raise Exception(\"Size Error. Map width = \", j, \", but must be\", width )\n",
        "                \n",
        "                i += 1\n",
        "\n",
        "        if i != height:\n",
        "            raise Exception(\"Size Error. Map height = \", i, \", but must be\", height )\n",
        "    \n",
        "     \n",
        "    def SetGridCells(self, width, height, gridCells):\n",
        "        '''\n",
        "        Initialization of map by list of cells.\n",
        "        '''\n",
        "        self.width = width\n",
        "        self.height = height\n",
        "        self.cells = gridCells\n",
        "\n",
        "\n",
        "    def inBounds(self, i, j):\n",
        "        '''\n",
        "        Check if the cell is on a grid.\n",
        "        '''\n",
        "        return (0 <= j < self.width) and (0 <= i < self.height)\n",
        "    \n",
        "\n",
        "    def Traversable(self, i, j):\n",
        "        '''\n",
        "        Check if the cell is not an obstacle.\n",
        "        '''\n",
        "        return not self.cells[i][j]\n",
        "\n",
        "\n",
        "    def GetNeighbors(self, i, j, diagonalMoves=False):\n",
        "        '''\n",
        "        Get a list of neighbouring cells as (i,j) tuples.\n",
        "        ''' \n",
        "\n",
        "        candidates = {\"left\":{\"y\":i, \"x\":j-1, \"isDiagonal\":False},\n",
        "                      \"left_up\":{\"y\":i+1, \"x\":j-1, \"isDiagonal\":True},\n",
        "                      \"up\":{\"y\":i+1, \"x\":j, \"isDiagonal\":False},\n",
        "                      \"right_up\":{\"y\":i+1, \"x\":j+1, \"isDiagonal\":True},\n",
        "                      \"right\":{\"y\":i, \"x\":j+1, \"isDiagonal\":False},\n",
        "                      \"right_down\":{\"y\":i-1, \"x\":j+1, \"isDiagonal\":True},\n",
        "                      \"down\":{\"y\":i-1, \"x\":j, \"isDiagonal\":False},\n",
        "                      \"left_down\":{\"y\":i-1, \"x\":j-1, \"isDiagonal\":True}}\n",
        "\n",
        "        candidates = {key: cell for key, cell in candidates.items() if (0 <= cell[\"y\"] < self.height) and \n",
        "                                                                         (0 <= cell[\"x\"] < self.width) and \n",
        "                                                                          self.Traversable(cell[\"y\"], cell[\"x\"])} \n",
        "     \n",
        "        if not candidates.get(\"left\"):\n",
        "          candidates.pop(\"left_up\", None)\n",
        "          candidates.pop(\"left_down\", None)\n",
        "        \n",
        "        if not candidates.get(\"right\"):\n",
        "          candidates.pop(\"right_up\", None)\n",
        "          candidates.pop(\"right_down\", None)\n",
        "        \n",
        "        if not candidates.get(\"up\"):\n",
        "          candidates.pop(\"right_up\", None)\n",
        "          candidates.pop(\"left_up\", None)\n",
        "        \n",
        "        if not candidates.get(\"down\"):\n",
        "          candidates.pop(\"right_down\", None)\n",
        "          candidates.pop(\"left_down\", None)\n",
        "\n",
        "        if diagonalMoves:\n",
        "          return [(v[\"y\"], v[\"x\"]) for k, v in candidates.items()]\n",
        "        else:\n",
        "          return [(v[\"y\"], v[\"x\"]) for k, v in candidates.items() if not v[\"isDiagonal\"]]"
      ],
      "execution_count": null,
      "outputs": []
    },
    {
      "cell_type": "code",
      "metadata": {
        "id": "pX8VWSWYjPpT"
      },
      "source": [
        "#GetNeighbors tests\n",
        "height = 4\n",
        "width = 4\n",
        "mapstr = '''\n",
        ". . . .   \n",
        "# . # .  \n",
        ". # . .  \n",
        ". . . . \n",
        "'''\n",
        "\n",
        "testMap = Map()\n",
        "testMap.ReadFromString(mapstr, width, height)"
      ],
      "execution_count": null,
      "outputs": []
    },
    {
      "cell_type": "code",
      "metadata": {
        "colab": {
          "base_uri": "https://localhost:8080/"
        },
        "id": "KCyoED4cjYpJ",
        "outputId": "d5cedad0-6e6f-4f53-c3b4-d951a77d5fc6"
      },
      "source": [
        "testMap.GetNeighbors(1, 1, True)"
      ],
      "execution_count": null,
      "outputs": [
        {
          "output_type": "execute_result",
          "data": {
            "text/plain": [
              "[(0, 1)]"
            ]
          },
          "metadata": {
            "tags": []
          },
          "execution_count": 6
        }
      ]
    },
    {
      "cell_type": "markdown",
      "metadata": {
        "id": "4T7u9lpaXouF"
      },
      "source": [
        "Computes the cost of a transition from cell `(i1, j1)` to cell `(i2, j2)`. In case of 4-connected grid it is always equal to 1. However if other moves are allowed, the cost of a transition may vary."
      ]
    },
    {
      "cell_type": "code",
      "metadata": {
        "id": "-Ig9dkdyXouF"
      },
      "source": [
        "def ComputeCost(i1, j1, i2, j2):\n",
        "    '''\n",
        "    Computes cost of simple moves between cells\n",
        "    '''\n",
        "    if abs(i1 - i2) + abs(j1 - j2) == 1: #cardinal move\n",
        "        return 1\n",
        "    else: #diagonal move\n",
        "        return math.sqrt(2) "
      ],
      "execution_count": null,
      "outputs": []
    },
    {
      "cell_type": "markdown",
      "metadata": {
        "id": "v9dx_OrTXouG"
      },
      "source": [
        "### Search Node Representation\n",
        "\n"
      ]
    },
    {
      "cell_type": "code",
      "metadata": {
        "id": "Akvrgo81XouH"
      },
      "source": [
        "class Node:\n",
        "    '''\n",
        "    Node class represents a search node\n",
        "\n",
        "    - i, j: coordinates of corresponding grid element\n",
        "    - g: g-value of the node\n",
        "    - h: h-value of the node\n",
        "    - F: f-value of the node\n",
        "    - parent: pointer to the parent-node \n",
        "\n",
        "    You might want to add other fields, methods for Node, depending on how you prefer to implement OPEN/CLOSED further on\n",
        "    '''\n",
        "\n",
        "    def __init__(self, i, j, g = 0, h = 0, F = None, parent = None):\n",
        "        self.i = i\n",
        "        self.j = j\n",
        "        self.g = g\n",
        "        self.h = h\n",
        "        if F is None:\n",
        "            self.F = self.g + h\n",
        "        else:\n",
        "            self.F = F        \n",
        "        self.parent = parent\n",
        "    \n",
        "    \n",
        "    def __eq__(self, other):\n",
        "        return (self.i == other.i) and (self.j == other.j)\n",
        "    \n",
        "    def __lt__(self, other): #self < other (self has higher priority)\n",
        "        return self.F < other.F or (abs(self.F - other.F) < EPS and (self.g > other.g))\n",
        "\n",
        "    def __repr__(self):\n",
        "      return f\"Node {self.i} {self.j} {self.g} {self.F}\""
      ],
      "execution_count": null,
      "outputs": []
    },
    {
      "cell_type": "markdown",
      "metadata": {
        "id": "oGKwMovxXouI"
      },
      "source": [
        "### Visualization"
      ]
    },
    {
      "cell_type": "code",
      "metadata": {
        "tags": [],
        "id": "BaPeaVOvXouI"
      },
      "source": [
        "def Draw(gridMap : Map, start : Node = None, goal : Node = None, path : list = None, nodesExpanded = None, nodesOpened = None):\n",
        "    '''\n",
        "    Auxiliary function that visualizes the enviromnet, the path and OPEN and CLOSED.\n",
        "    '''\n",
        "    k = 5\n",
        "    hIm = gridMap.height * k\n",
        "    wIm = gridMap.width * k\n",
        "    im = Image.new('RGB', (wIm, hIm), color = 'white')\n",
        "    draw = ImageDraw.Draw(im)\n",
        "    for i in range(gridMap.height):\n",
        "        for j in range(gridMap.width):\n",
        "            if(gridMap.cells[i][j] == 1):\n",
        "                draw.rectangle((j * k, i * k, (j + 1) * k - 1, (i + 1) * k - 1), fill=( 70, 80, 80 ))\n",
        "\n",
        "    if nodesOpened is not None:\n",
        "        for node in nodesOpened:\n",
        "            draw.rectangle((node.j * k, node.i * k, (node.j + 1) * k - 1, (node.i + 1) * k - 1), fill=(213, 219, 219), width=0)\n",
        "\n",
        "    if nodesExpanded is not None:\n",
        "        for node in nodesExpanded:\n",
        "            draw.rectangle((node.j * k, node.i * k, (node.j + 1) * k - 1, (node.i + 1) * k - 1), fill=( 131, 145, 146 ), width=0)\n",
        "\n",
        "    if path is not None:\n",
        "        for step in path:\n",
        "            if (step is not None):\n",
        "                if (gridMap.Traversable(step.i, step.j)):\n",
        "                    draw.rectangle((step.j * k, step.i * k, (step.j + 1) * k - 1, (step.i + 1) * k - 1), fill=(52, 152, 219), width=0)\n",
        "                else:\n",
        "                    draw.rectangle((step.j * k, step.i * k, (step.j + 1) * k - 1, (step.i + 1) * k - 1), fill=(230, 126, 34), width=0)\n",
        "\n",
        "    if (start is not None) and (gridMap.Traversable(start.i, start.j)):\n",
        "        draw.rectangle((start.j * k, start.i * k, (start.j + 1) * k - 1, (start.i + 1) * k - 1), fill=(40, 180, 99), width=0)\n",
        "    \n",
        "    if (goal is not None) and (gridMap.Traversable(goal.i, goal.j)):\n",
        "        draw.rectangle((goal.j * k, goal.i * k, (goal.j + 1) * k - 1, (goal.i + 1) * k - 1), fill=(231, 76, 60), width=0)\n",
        "\n",
        "\n",
        "    fig, ax = plt.subplots(dpi=150)\n",
        "    ax.axes.xaxis.set_visible(False)\n",
        "    ax.axes.yaxis.set_visible(False)\n",
        "    plt.imshow(np.asarray(im))\n",
        "    \n",
        "    \n"
      ],
      "execution_count": null,
      "outputs": []
    },
    {
      "cell_type": "markdown",
      "metadata": {
        "id": "FKTDRSI_XouJ"
      },
      "source": [
        "Example of the visualization"
      ]
    },
    {
      "cell_type": "code",
      "metadata": {
        "tags": [],
        "id": "r5hr_2G6XouK",
        "colab": {
          "base_uri": "https://localhost:8080/",
          "height": 403
        },
        "outputId": "67fd4073-4333-4297-9206-14024bbd7d19"
      },
      "source": [
        "height = 15\n",
        "width = 30\n",
        "mapstr = '''\n",
        ". . . . . . . . . . . . . . . . . . . . . # # . . . . . . .  \n",
        ". . . . . . . . . . . . . . . . . . . . . # # . . . . . . . \n",
        ". . . . . . . . . . . . . . . . . . . . . # # . . . . . . . \n",
        ". . . # # . . . . . . . . . . . . . . . . # # . . . . . . . \n",
        ". . . # # . . . . . . . . # # . . . . . . # # . . . . . . . \n",
        ". . . # # . . . . . . . . # # . . . . . . # # # # # . . . . \n",
        ". . . # # . . . . . . . . # # . . . . . . # # # # # . . . . \n",
        ". . . # # . . . . . . . . # # . . . . . . . . . . . . . . . \n",
        ". . . # # . . . . . . . . # # . . . . . . . . . . . . . . . \n",
        ". . . # # . . . . . . . . # # . . . . . . . . . . . . . . . \n",
        ". . . # # . . . . . . . . # # . . . . . . . . . . . . . . . \n",
        ". . . # # . . . . . . . . # # . . . . . . . . . . . . . . . \n",
        ". . . . . . . . . . . . . # # . . . . . . . . . . . . . . . \n",
        ". . . . . . . . . . . . . # # . . . . . . . . . . . . . . .\n",
        ". . . . . . . . . . . . . # # . . . . . . . . . . . . . . .\n",
        "'''\n",
        "\n",
        "testMap = Map()\n",
        "testMap.ReadFromString(mapstr, width, height)\n",
        "start = Node(1, 1)\n",
        "goal = Node(13, 28)\n",
        "Draw(testMap, start, goal)\n",
        "\n"
      ],
      "execution_count": null,
      "outputs": [
        {
          "output_type": "display_data",
          "data": {
            "image/png": "[encoded data removed]",
            "text/plain": [
              "<Figure size 900x600 with 1 Axes>"
            ]
          },
          "metadata": {
            "tags": [],
            "needs_background": "light"
          }
        }
      ]
    },
    {
      "cell_type": "markdown",
      "metadata": {
        "id": "VANBOXBrXouM"
      },
      "source": [
        "### Implementing OPEN and CLOSED\n",
        "Efficient implementation of OPEN and CLOSED is crucial for any search algorithm. Below you may find basic implementations that use lists to store the elements of OPEN and CLOSED. This is not very efficient. Your task is to create your own implementations.\n",
        "\n",
        "It's a good idea to modify CLOSED first (as it is pretty straghtforward to do so). Then check that everything is OK, i.e. the search algorithms work faster and the result is correct. Then proceed to modifying OPEN (which is not that trivial as might seem).\n",
        "\n",
        "PS: You may wish to add additional fields, methods, method-arguments etc. to your implementations.\n"
      ]
    },
    {
      "cell_type": "code",
      "metadata": {
        "id": "RIhArYS5XouM"
      },
      "source": [
        "class OpenBase:\n",
        "\n",
        "    def __init__(self):\n",
        "        pass\n",
        "\n",
        "\n",
        "    def __len__(self):\n",
        "        pass\n",
        "\n",
        "\n",
        "    def __iter__(self):\n",
        "        pass\n",
        "\n",
        "\n",
        "    def isEmpty(self):\n",
        "        '''\n",
        "        isEmpty should inform whether the OPEN is exhausted or not in the former case the search main loop should be interrupted\n",
        "        '''\n",
        "        pass\n",
        "\n",
        "\n",
        "    def AddNode(self, node : Node, *args):\n",
        "        '''\n",
        "        AddNode is the method that puts (e.g. inserts or updates) the node to OPEN\n",
        "        When implementing it do not forget to handle all possible cases:\n",
        "         - node already in OPEN but the new g-value is better;\n",
        "         - node already in OPEN but the new g-value is worse;\n",
        "         - node is not in OPEN yet.\n",
        "        '''\n",
        "        pass\n",
        "\n",
        "\n",
        "    def GetBestNode(self, *args):\n",
        "        '''\n",
        "        GetBestNode is the method that \n",
        "         i) finds the best node, i.e. the one with the lowest f-value (f=g+h) (for Dijkstra h=0),\n",
        "         ii) removes it from OPEN and \n",
        "         iii) returns it\n",
        "        '''\n",
        "        pass\n",
        "\n"
      ],
      "execution_count": null,
      "outputs": []
    },
    {
      "cell_type": "code",
      "metadata": {
        "id": "ifyYY5QgXouN"
      },
      "source": [
        "class OpenList (OpenBase):\n",
        "\n",
        "    def __init__(self):\n",
        "        self.elements = []\n",
        "    \n",
        "\n",
        "    def __iter__(self):\n",
        "        return iter(self.elements)\n",
        "\n",
        "\n",
        "    def __len__(self):\n",
        "        return len(self.elements)\n",
        "\n",
        "\n",
        "    def isEmpty(self):\n",
        "        if len(self.elements) != 0:\n",
        "            return False\n",
        "        return True\n",
        "    \n",
        "    def to_list(self):\n",
        "        return self.elements\n",
        "\n",
        "    def GetBestNode(self, *args):\n",
        "        bestF = math.inf\n",
        "        bestCoord = 0\n",
        "        for i in range(len(self.elements)):\n",
        "            if self.elements[i].F < bestF:\n",
        "                bestCoord = i\n",
        "                bestF = self.elements[i].F\n",
        "                \n",
        "        best = self.elements.pop(bestCoord)\n",
        "        return best\n",
        "    \n",
        "\n",
        "    def AddNode(self, node : Node, *args):\n",
        "        for existingNode in self.elements:\n",
        "            if existingNode.i == node.i and existingNode.j == node.j:\n",
        "                if existingNode.g > node.g:\n",
        "                    existingNode.g = node.g\n",
        "                    existingNode.F = node.F\n",
        "                    existingNode.parent = node.parent\n",
        "                    return\n",
        "                else:\n",
        "                    return\n",
        "        self.elements.append(node)\n",
        "        return\n"
      ],
      "execution_count": null,
      "outputs": []
    },
    {
      "cell_type": "code",
      "metadata": {
        "id": "CGihSU5PXouO"
      },
      "source": [
        "class ClosedBase:\n",
        "\n",
        "    def __init__(self):\n",
        "        pass\n",
        "\n",
        "\n",
        "    def __iter__(self):\n",
        "        pass\n",
        "    \n",
        "\n",
        "    def __len__(self):\n",
        "        pass\n",
        "    \n",
        "    \n",
        "    def AddNode(self, item : Node):\n",
        "        pass\n",
        "\n",
        "\n",
        "    def WasExpanded(self, item : Node):\n",
        "        pass\n",
        "\n"
      ],
      "execution_count": null,
      "outputs": []
    },
    {
      "cell_type": "code",
      "metadata": {
        "id": "vA1vTNI3XouO"
      },
      "source": [
        "class ClosedList (ClosedBase):\n",
        "\n",
        "    \n",
        "    def __init__(self):\n",
        "        self.elements = []\n",
        "\n",
        "\n",
        "    def __iter__(self):\n",
        "        return iter(self.elements)\n",
        "    \n",
        "\n",
        "    def __len__(self):\n",
        "        return len(self.elements)\n",
        "    \n",
        "    def to_list(self):\n",
        "        return self.elements\n",
        "        \n",
        "    def AddNode(self, item : Node):\n",
        "        '''\n",
        "        AddNode is the method that inserts the node to CLOSED\n",
        "        '''\n",
        "        self.elements.append(item)\n",
        "     \n",
        "     \n",
        "    def WasExpanded(self, item : Node):\n",
        "        '''\n",
        "        WasExpanded is the method that checks if a node has been expanded\n",
        "        '''\n",
        "        return item in self.elements"
      ],
      "execution_count": null,
      "outputs": []
    },
    {
      "cell_type": "code",
      "metadata": {
        "id": "IDWmtgYh0HRM"
      },
      "source": [
        "import heapq\n",
        "import numpy as np"
      ],
      "execution_count": null,
      "outputs": []
    },
    {
      "cell_type": "code",
      "metadata": {
        "id": "mMnKaSJ-XouP"
      },
      "source": [
        "class YourOpen (OpenBase):\n",
        "    \n",
        "    def __init__(self):\n",
        "        self.elements = []\n",
        "\n",
        "    def __iter__(self):\n",
        "        return iter(self.elements)\n",
        "\n",
        "\n",
        "    def __len__(self):\n",
        "        return len(self.elements)\n",
        "\n",
        "    def to_list(self):\n",
        "        return [node for node in self.elements]\n",
        "\n",
        "    def isEmpty(self):\n",
        "        if len(self.elements) != 0:\n",
        "            return False\n",
        "        return True\n",
        "    \n",
        "    def GetBestNode(self, *args):\n",
        "        return heapq.heappop(self.elements)\n",
        "    \n",
        "    def AddNode(self, node : Node, *args):\n",
        "        heapq.heappush(self.elements, node)\n",
        "        return"
      ],
      "execution_count": null,
      "outputs": []
    },
    {
      "cell_type": "code",
      "metadata": {
        "id": "P2D9ImoPJrVb"
      },
      "source": [
        "a = Node(1, 1, g=4, F=12)\n",
        "b = Node(1, 1, g=8, F=13)\n",
        "c = Node(1, 1, g=2, F=10)\n",
        "d = Node(1, 1, g=5, F=12)"
      ],
      "execution_count": null,
      "outputs": []
    },
    {
      "cell_type": "code",
      "metadata": {
        "colab": {
          "base_uri": "https://localhost:8080/"
        },
        "id": "xOM0sCVfKE0Y",
        "outputId": "99116360-6b22-4f1e-b140-2b96e9a395ec"
      },
      "source": [
        "heap = []\n",
        "heapq.heappush(heap, a)\n",
        "heapq.heappush(heap, b)\n",
        "heapq.heappush(heap, c)\n",
        "heapq.heappush(heap, d)\n",
        "heap"
      ],
      "execution_count": null,
      "outputs": [
        {
          "output_type": "execute_result",
          "data": {
            "text/plain": [
              "[Node 1 1 2 10, Node 1 1 5 12, Node 1 1 4 12, Node 1 1 8 13]"
            ]
          },
          "metadata": {
            "tags": []
          },
          "execution_count": 18
        }
      ]
    },
    {
      "cell_type": "code",
      "metadata": {
        "id": "btNgGrNtOJ2u"
      },
      "source": [
        "c.F = 20\n",
        "heapq.heapify(heap)"
      ],
      "execution_count": null,
      "outputs": []
    },
    {
      "cell_type": "code",
      "metadata": {
        "colab": {
          "base_uri": "https://localhost:8080/"
        },
        "id": "iue-tUGPTAvd",
        "outputId": "9d7cc157-9392-410f-8141-a3a788d682d5"
      },
      "source": [
        "heap"
      ],
      "execution_count": null,
      "outputs": [
        {
          "output_type": "execute_result",
          "data": {
            "text/plain": [
              "[Node 1 1 5 12, Node 1 1 8 13, Node 1 1 4 12, Node 1 1 2 20]"
            ]
          },
          "metadata": {
            "tags": []
          },
          "execution_count": 20
        }
      ]
    },
    {
      "cell_type": "code",
      "metadata": {
        "colab": {
          "base_uri": "https://localhost:8080/"
        },
        "id": "FcmVoUVAK8KE",
        "outputId": "b6771ef7-5278-4af2-c01a-f0d20f20b865"
      },
      "source": [
        "heapq.heappop(heap)"
      ],
      "execution_count": null,
      "outputs": [
        {
          "output_type": "execute_result",
          "data": {
            "text/plain": [
              "Node 1 1 5 12"
            ]
          },
          "metadata": {
            "tags": []
          },
          "execution_count": 21
        }
      ]
    },
    {
      "cell_type": "code",
      "metadata": {
        "id": "z1_GJpuDXouP"
      },
      "source": [
        "class YourClosed (ClosedBase):\n",
        "\n",
        "    \n",
        "    def __init__(self):\n",
        "        self.elements = {}\n",
        "\n",
        "\n",
        "    def __iter__(self):\n",
        "        return iter(self.elements)\n",
        "    \n",
        "\n",
        "    def __len__(self):\n",
        "        return len(self.elements)\n",
        "    \n",
        "    def to_list(self):\n",
        "        return [v for k,v in self.elements.items()]\n",
        "\n",
        "    def AddNode(self, item : Node):\n",
        "        '''\n",
        "        AddNode is the method that inserts the node to CLOSED\n",
        "        '''\n",
        "        self.elements[(item.i, item.j)] = item\n",
        "     \n",
        "     \n",
        "    def WasExpanded(self, item : Node):\n",
        "        '''\n",
        "        WasExpanded is the method that checks if a node has been expanded\n",
        "        '''\n",
        "        return self.elements.get((item.i, item.j))"
      ],
      "execution_count": null,
      "outputs": []
    },
    {
      "cell_type": "markdown",
      "metadata": {
        "id": "glZZz4oPXouP"
      },
      "source": [
        "### Validating the results\n"
      ]
    },
    {
      "cell_type": "code",
      "metadata": {
        "id": "Om54L7BSXouQ"
      },
      "source": [
        "def MakePath(goal):\n",
        "    '''\n",
        "    Creates a path by tracing parent pointers from the goal node to the start node\n",
        "    It also returns path's length.\n",
        "    '''\n",
        "\n",
        "    length = goal.g\n",
        "    current = goal\n",
        "    path = []\n",
        "    while current.parent:\n",
        "        path.append(current)\n",
        "        current = current.parent\n",
        "    path.append(current)\n",
        "    return path[::-1], length"
      ],
      "execution_count": null,
      "outputs": []
    },
    {
      "cell_type": "code",
      "metadata": {
        "id": "YZnvjk2qXouQ"
      },
      "source": [
        "def ReadTaskFromFile(path):\n",
        "    '''\n",
        "    Reads map, start/goal positions and true value of path length between given start and goal from file by path. \n",
        "    '''\n",
        "\n",
        "    tasksFile = open(path)\n",
        "    count = 0\n",
        "    height = int(tasksFile.readline())\n",
        "    width = int(tasksFile.readline())\n",
        "    cells = [[0 for _ in range(width)] for _ in range(height)]\n",
        "    i = 0\n",
        "    j = 0\n",
        "\n",
        "    for l in tasksFile:\n",
        "        j = 0\n",
        "        for c in l:\n",
        "            if c == '.':\n",
        "                cells[i][j] = 0\n",
        "            elif c == '#':\n",
        "                cells[i][j] = 1\n",
        "            else:\n",
        "                continue\n",
        "            \n",
        "            j += 1\n",
        "            \n",
        "        if j != width:\n",
        "            raise Exception(\"Size Error. Map width = \", j, \", but must be\", width, \"(map line: \", i, \")\")\n",
        "                \n",
        "        i += 1\n",
        "        if(i == height):\n",
        "            break\n",
        "    \n",
        "    iStart = int(tasksFile.readline())\n",
        "    jStart = int(tasksFile.readline())\n",
        "    iGoal = int(tasksFile.readline())\n",
        "    jGoal = int(tasksFile.readline())\n",
        "    cardinalLength = float(tasksFile.readline())\n",
        "    diagonalLength = float(tasksFile.readline())\n",
        "    return (width, height, cells, iStart, jStart, iGoal, jGoal, cardinalLength, diagonalLength)"
      ],
      "execution_count": null,
      "outputs": []
    },
    {
      "cell_type": "markdown",
      "metadata": {
        "id": "oAVmPft-XouQ"
      },
      "source": [
        "`Simpletest` tests the pathfing algorithm on a single simple instance, `Massivetest` - on a series of a move involved instances. Both tests assume that the search function fits the following pattern:\n",
        "\n",
        "\n",
        "`Search(taskMap, start.i, start.j, goal.i, goal.j, *optional arguments*) -> (pathFound, lastState, CLOSED, OPEN)`, where\n",
        "\n",
        "- taskMap -- grid\n",
        "- start.i, start.j -- (i,j) coordinates of the start cell\n",
        "- goal.i, goal.j -- (i,j) coordinates of the goal cell\n",
        "- *optional arguments* -- additional parameters of the search function, passed with `*args`. Example of additional parameters you can see at Dijkstra and A* functions\n",
        "- pathFound -- `True` if path was found, `False` otherwise\n",
        "- lastState -- last state of the path. `None` if path was not found\n",
        "- CLOSED -- CLOSED set (at the last step)\n",
        "- OPEN -- OPEN set (at the last step)"
      ]
    },
    {
      "cell_type": "code",
      "metadata": {
        "id": "6nE-XFF7XouR"
      },
      "source": [
        "from random import randint\n",
        "\n",
        "def SimpleTest(SearchFunction, task, *args):\n",
        "    '''\n",
        "    SimpleTest runs SearchFunction on one task (use a number from 0 to 25 to choose a certain debug task on simple map or None to choose a random task from this pool) with *args as optional arguments and displays:\n",
        "     - 'Path found!' and some statistics -- path was found\n",
        "     - 'Path not found!' -- path was not found\n",
        "     - 'Execution error' -- an error occurred while executing the SearchFunction In first two cases function also draws visualisation of the task\n",
        "\n",
        "    '''\n",
        "    \n",
        "    height = 15\n",
        "    width = 30\n",
        "    mapstr = '''\n",
        ". . . . . . . . . . . . . . . . . . . . . # # . . . . . . .  \n",
        ". . . . . . . . . . . . . . . . . . . . . # # . . . . . . . \n",
        ". . . . . . . . . . . . . . . . . . . . . # # . . . . . . . \n",
        ". . . # # . . . . . . . . . . . . . . . . # # . . . . . . . \n",
        ". . . # # . . . . . . . . # # . . . . . . # # . . . . . . . \n",
        ". . . # # . . . . . . . . # # . . . . . . # # # # # . . . . \n",
        ". . . # # . . . . . . . . # # . . . . . . # # # # # . . . . \n",
        ". . . # # . . . . . . . . # # . . . . . . . . . . . . . . . \n",
        ". . . # # . . . . . . . . # # . . . . . . . . . . . . . . . \n",
        ". . . # # . . . . . . . . # # . . . . . . . . . . . . . . . \n",
        ". . . # # . . . . . . . . # # . . . . . . . . . . . . . . . \n",
        ". . . # # . . . . . . . . # # . . . . . . . . . . . . . . . \n",
        ". . . . . . . . . . . . . # # . . . . . . . . . . . . . . . \n",
        ". . . . . . . . . . . . . # # . . . . . . . . . . . . . . .\n",
        ". . . . . . . . . . . . . # # . . . . . . . . . . . . . . .\n",
        "'''\n",
        "\n",
        "    taskMap = Map()\n",
        "    taskMap.ReadFromString(mapstr, width, height)\n",
        "    starts = [(9, 0), (13, 0), (7, 28), (14, 29), (4, 1), (0, 17), (5, 6), (5, 20), (12, 2), (7, 28), (11, 9), (3, 2), (3, 17), (13, 20), (1, 1), (9, 10), (14, 6), (2, 0), (9, 28), (8, 6), (11, 6), (3, 0), (8, 9), (14, 7), (12, 4)]\n",
        "    goals = [(11, 20), (2, 19), (6, 5), (4, 18), (9, 20), (7, 0), (2, 25), (12, 4), (3, 25), (0, 12), (4, 23), (2, 24), (9, 2), (1, 6), (13, 29), (14, 29), (2, 28), (14, 16), (13, 0), (1, 27), (14, 25), (10, 20), (12, 28), (2, 29), (1, 29)]\n",
        "    cardLengths = [36, 30, 30, 21, 28, 24, 32, 27, 42, 23, 35, 37, 23, 26, 40, 36, 42, 28, 44, 36, 38, 29, 33, 42, 44]\n",
        "    diagLengths = [31.313708498984763, 24.72792206135786, 25.89949493661167, 15.727922061357859, 23.899494936611667,\\\n",
        "                   21.65685424949238, 27.899494936611667, 21.72792206135786, 34.97056274847714, 18.89949493661167,\\\n",
        "                   30.899494936611667, 32.89949493661167, 22.414213562373096, 21.899494936611667, 32.97056274847714,\\\n",
        "                   28.384776310850242, 34.970562748477136, 26.82842712474619, 35.798989873223334, 30.142135623730955,\\\n",
        "                   28.62741699796953, 24.899494936611667, 25.970562748477146, 34.970562748477136, 35.79898987322333] \n",
        "\n",
        "    if (task is None) or not (0 <= task < 25):\n",
        "        task = randint(0, 24)\n",
        "\n",
        "\n",
        "    start = Node(*starts[task])\n",
        "    goal = Node(*goals[task])\n",
        "    cardLength = cardLengths[task]\n",
        "    diagLength = diagLengths[task]\n",
        "    #try:\n",
        "    if True:\n",
        "        result = SearchFunction(taskMap, start.i, start.j, goal.i, goal.j, *args)\n",
        "        nodesExpanded = result[2]\n",
        "        nodesOpened = result[3]\n",
        "        if result[0]:\n",
        "            path = MakePath(result[1])\n",
        "            correct = (int(path[1])  == int(cardLength) or abs(float(path[1]) - float(diagLength)) < 1e-6)\n",
        "            Draw(taskMap, start, goal, path[0], nodesExpanded, nodesOpened)\n",
        "            print(\"Path found! Length: \" + str(path[1]) + \". Nodes created: \" + str(len(nodesOpened) + len(nodesExpanded)) + \". Number of steps: \" + str(len(nodesExpanded)) + \". Correct: \" + str(correct))\n",
        "        else:\n",
        "            print(\"Path not found!\")\n",
        "    return correct\n",
        "\n",
        "    #except Exception as e:\n",
        "    #    print(\"Execution error\")\n",
        "    #    print(e)"
      ],
      "execution_count": null,
      "outputs": []
    },
    {
      "cell_type": "code",
      "metadata": {
        "id": "3IWI6eqdXouR"
      },
      "source": [
        "def MassiveTest(SearchFunction, *args):\n",
        "    '''\n",
        "    MassiveTest runs SearchFunction on set of differnt tasks (from directory Data/) with *args as optional arguments and for every task displays one of these short reports:\n",
        "     - 'Path found!' and some statistics -- path was found\n",
        "     - 'Path not found!' -- path was not found\n",
        "     - 'Execution error' -- an error occurred while executing the SearchFunction In first two cases function also draws visualisation of the task.\n",
        "    \n",
        "    Massive test return a dictionary with statistics of path finding. Dictionary contains next fields:\n",
        "     - \"corr\" -- the correctness of every path length (True/False)\n",
        "     - \"len\" -- the length of every path (0.0 if path not found)\n",
        "     - \"nc\" -- the number of created nodes for every task execution\n",
        "     - \"st\" -- the number of steps of algorithm for every task execution\n",
        "    '''\n",
        "    \n",
        "    stat = dict()\n",
        "    stat[\"corr\"] = []\n",
        "    stat[\"len\"] = []\n",
        "    stat[\"nc\"] = []\n",
        "    stat[\"st\"] = []\n",
        "    taskNum = 9\n",
        "    taskMap = Map()\n",
        "    for taskCount in range(taskNum):\n",
        "        taskFileName = \"/content/drive/MyDrive/lab/lab1/Data/\" + str(taskCount) + \".map\"\n",
        "        width, height, cells, iStart, jStart, iGoal, jGoal, cardinalLength, diagonalLength = ReadTaskFromFile(taskFileName)\n",
        "        taskMap.SetGridCells(width,height,cells)\n",
        "        try:\n",
        "            result = SearchFunction(taskMap, iStart, jStart, iGoal, jGoal, *args)\n",
        "            nodesExpanded = result[2]\n",
        "            nodesOpened = result[3]\n",
        "            if result[0]:\n",
        "                path = MakePath(result[1]) \n",
        "                stat[\"len\"].append(path[1])\n",
        "                correct = (int(path[1])  == int(cardinalLength) or abs(float(path[1]) - float(diagonalLength)) < 1e-6)\n",
        "                stat[\"corr\"].append(correct)\n",
        "                # Draw(taskMap, Node(iStart, jStart), Node(iGoal, jGoal), path[0], nodesExpanded, nodesOpened)\n",
        "                print(\"Path found! Length: \" + str(path[1]) + \". Nodes created: \" + str(len(nodesOpened) + len(nodesExpanded)) + \". Number of steps: \" + str(len(nodesExpanded)) + \". Correct: \" + str(correct))\n",
        "            else:\n",
        "                print(\"Path not found!\")\n",
        "                stat[\"corr\"].append(False)\n",
        "                stat[\"len\"].append(0.0)\n",
        "\n",
        "            stat[\"nc\"].append(len(nodesOpened) + len(nodesExpanded))\n",
        "            stat[\"st\"].append(len(nodesExpanded))\n",
        "\n",
        "        except Exception as e:\n",
        "           print(\"Execution error\")\n",
        "           print(e)\n",
        "\n",
        "    return stat"
      ],
      "execution_count": null,
      "outputs": []
    },
    {
      "cell_type": "markdown",
      "metadata": {
        "id": "JfE2lddYXouS"
      },
      "source": [
        "## Dijkstra algorithm\n",
        "\n",
        "The input is:\n",
        "- map\n",
        "- start/goal\n",
        "- heuristic function (None by defalut)\n",
        "- the references to the implementation of OPEN and CLOSED (defaults are provided)\n",
        "\n",
        "Please note, that technically there is no need to pass heuristic function to Dijkstra's algorithm. However to unify it with A* we keep this parameter as a take-in argument.\n",
        "\n",
        "The output is:\n",
        "- path found flag (`true` or `false`)\n",
        "- last node of the path (so one can unwind it using the parent-pointers further on)\n",
        "- OPEN and CLOSED nodes for further visualization purposes"
      ]
    },
    {
      "cell_type": "code",
      "metadata": {
        "id": "CEDhj2YvXouS"
      },
      "source": [
        "def Dijkstra(gridMap : Map, iStart : int, jStart : int, iGoal : int, jGoal : int, heuristicFunction = None, openType = OpenList, closedType = ClosedList, diagonalMoves = False):\n",
        "    OPEN = openType()\n",
        "    CLOSED = closedType()\n",
        "    OPEN.AddNode(Node(iStart, jStart, g=0, parent=None))\n",
        "\n",
        "    while not OPEN.isEmpty():\n",
        "      s = OPEN.GetBestNode() #method also delete from OPEN\n",
        "      while CLOSED.WasExpanded(s): # а тут мы проверяем что мы не вытащили что-то из CLOSED (нужно из-за реалзации структуры OPEN)\n",
        "        s = OPEN.GetBestNode()\n",
        "      \n",
        "      CLOSED.AddNode(s)\n",
        "      if s.i == iGoal and s.j == jGoal:\n",
        "        return (True, s, CLOSED.to_list(), OPEN.to_list())\n",
        "      for i, j in gridMap.GetNeighbors(s.i, s.j, diagonalMoves):\n",
        "        s_ = Node(i, j, g=s.g+ComputeCost(s.i, s.j, i, j), parent=s)\n",
        "        if CLOSED.WasExpanded(s_):\n",
        "          continue\n",
        "        OPEN.AddNode(s_) # структура добавляет все решения\n",
        "\n",
        "    return (False, None, CLOSED.to_list(), OPEN.to_list())"
      ],
      "execution_count": null,
      "outputs": []
    },
    {
      "cell_type": "markdown",
      "metadata": {
        "id": "g9XYO-FmXouS"
      },
      "source": [
        "Now let's test the implementation."
      ]
    },
    {
      "cell_type": "code",
      "metadata": {
        "scrolled": true,
        "tags": [],
        "id": "Bk_dmZs_XouS",
        "colab": {
          "base_uri": "https://localhost:8080/",
          "height": 470
        },
        "outputId": "eda0acc8-ccd3-4bcd-cbf1-cd2c4097916e"
      },
      "source": [
        "#This should work correct (but somewhat slow) in case your implementatation of Dijkstra is correct\n",
        "%time SimpleTest(Dijkstra, 0, None, OpenList, ClosedList)"
      ],
      "execution_count": null,
      "outputs": [
        {
          "output_type": "stream",
          "text": [
            "Path found! Length: 36. Nodes created: 282. Number of steps: 275. Correct: True\n",
            "CPU times: user 55.3 ms, sys: 514 µs, total: 55.8 ms\n",
            "Wall time: 61.9 ms\n"
          ],
          "name": "stdout"
        },
        {
          "output_type": "execute_result",
          "data": {
            "text/plain": [
              "True"
            ]
          },
          "metadata": {
            "tags": []
          },
          "execution_count": 119
        },
        {
          "output_type": "display_data",
          "data": {
            "image/png": "[encoded data removed]",
            "text/plain": [
              "<Figure size 900x600 with 1 Axes>"
            ]
          },
          "metadata": {
            "tags": [],
            "needs_background": "light"
          }
        }
      ]
    },
    {
      "cell_type": "code",
      "metadata": {
        "id": "HycKHQnOXouT",
        "colab": {
          "base_uri": "https://localhost:8080/",
          "height": 470
        },
        "outputId": "0e23daf6-c34b-425a-c8d3-f175e5c50ecb"
      },
      "source": [
        "#This should work better (=faster) in case:\n",
        "# i) your implementation of Dijkstra is correct\n",
        "# ii) your implementation of OPEN/CLOSED is efficient\n",
        "%time SimpleTest(Dijkstra, 0, None, YourOpen, YourClosed)"
      ],
      "execution_count": null,
      "outputs": [
        {
          "output_type": "stream",
          "text": [
            "Path found! Length: 36. Nodes created: 297. Number of steps: 279. Correct: True\n",
            "CPU times: user 28.4 ms, sys: 907 µs, total: 29.3 ms\n",
            "Wall time: 33.4 ms\n"
          ],
          "name": "stdout"
        },
        {
          "output_type": "execute_result",
          "data": {
            "text/plain": [
              "True"
            ]
          },
          "metadata": {
            "tags": []
          },
          "execution_count": 120
        },
        {
          "output_type": "display_data",
          "data": {
            "image/png": "[encoded data removed]",
            "text/plain": [
              "<Figure size 900x600 with 1 Axes>"
            ]
          },
          "metadata": {
            "tags": [],
            "needs_background": "light"
          }
        }
      ]
    },
    {
      "cell_type": "code",
      "metadata": {
        "id": "J-u-P8jAXouT",
        "colab": {
          "base_uri": "https://localhost:8080/",
          "height": 470
        },
        "outputId": "72590e1e-6a15-4f42-92b7-cbd3cfb8ad16"
      },
      "source": [
        "%time SimpleTest(Dijkstra, 0, None, YourOpen, YourClosed, True)"
      ],
      "execution_count": null,
      "outputs": [
        {
          "output_type": "stream",
          "text": [
            "Path found! Length: 31.313708498984763. Nodes created: 287. Number of steps: 271. Correct: True\n",
            "CPU times: user 28.6 ms, sys: 0 ns, total: 28.6 ms\n",
            "Wall time: 32.7 ms\n"
          ],
          "name": "stdout"
        },
        {
          "output_type": "execute_result",
          "data": {
            "text/plain": [
              "True"
            ]
          },
          "metadata": {
            "tags": []
          },
          "execution_count": 26
        },
        {
          "output_type": "display_data",
          "data": {
            "image/png": "[encoded data removed]",
            "text/plain": [
              "<Figure size 900x600 with 1 Axes>"
            ]
          },
          "metadata": {
            "tags": [],
            "needs_background": "light"
          }
        }
      ]
    },
    {
      "cell_type": "code",
      "metadata": {
        "tags": [],
        "id": "9wb5hwcCXouT",
        "colab": {
          "base_uri": "https://localhost:8080/"
        },
        "outputId": "df660ad5-c823-446b-cac0-b4700e49f39d"
      },
      "source": [
        "#Running Dijkstra with the default (list-based) implementation of OPEN/CLOSED will take looooots of time.\n",
        "#So try running it with your (efficient) implementation of Open/Closed\n",
        "%time dijkStat = MassiveTest(Dijkstra, None, YourOpen, YourClosed, False)"
      ],
      "execution_count": null,
      "outputs": [
        {
          "output_type": "stream",
          "text": [
            "Path found! Length: 64. Nodes created: 1776. Number of steps: 1752. Correct: True\n",
            "Path found! Length: 197. Nodes created: 7451. Number of steps: 7448. Correct: True\n",
            "Path found! Length: 462. Nodes created: 45897. Number of steps: 45890. Correct: True\n",
            "Path found! Length: 498. Nodes created: 44456. Number of steps: 44440. Correct: True\n",
            "Path found! Length: 479. Nodes created: 47540. Number of steps: 47534. Correct: True\n",
            "Path found! Length: 402. Nodes created: 28175. Number of steps: 28173. Correct: True\n",
            "Path found! Length: 721. Nodes created: 112518. Number of steps: 112431. Correct: True\n",
            "Path found! Length: 678. Nodes created: 77433. Number of steps: 77372. Correct: True\n",
            "Path found! Length: 683. Nodes created: 95900. Number of steps: 95875. Correct: True\n",
            "CPU times: user 24.7 s, sys: 99.9 ms, total: 24.8 s\n",
            "Wall time: 28.2 s\n"
          ],
          "name": "stdout"
        }
      ]
    },
    {
      "cell_type": "code",
      "metadata": {
        "id": "j-2S6JHJXouU",
        "colab": {
          "base_uri": "https://localhost:8080/"
        },
        "outputId": "447c35a5-a342-4c35-e82c-ed65ce02b8db"
      },
      "source": [
        "#running massive test of Dijkstra algorithm on 8-connected grids\n",
        "%time dijkDiagStat = MassiveTest(Dijkstra, None, YourOpen, YourClosed, True)"
      ],
      "execution_count": null,
      "outputs": [
        {
          "output_type": "stream",
          "text": [
            "Path found! Length: 48.183766184073555. Nodes created: 1930. Number of steps: 1704. Correct: True\n",
            "Path found! Length: 183.5269119345813. Nodes created: 7479. Number of steps: 7441. Correct: True\n",
            "Path found! Length: 369.4457428549503. Nodes created: 45955. Number of steps: 45908. Correct: True\n",
            "Path found! Length: 397.8305191658005. Nodes created: 44526. Number of steps: 44449. Correct: True\n",
            "Path found! Length: 360.0853531617398. Nodes created: 47569. Number of steps: 47538. Correct: True\n",
            "Path found! Length: 344.59292911256387. Nodes created: 28189. Number of steps: 28176. Correct: True\n",
            "Path found! Length: 564.5950211536186. Nodes created: 114099. Number of steps: 113944. Correct: True\n",
            "Path found! Length: 536.2396820942909. Nodes created: 77713. Number of steps: 77395. Correct: True\n",
            "Path found! Length: 589.2741699796965. Nodes created: 96135. Number of steps: 96039. Correct: True\n",
            "CPU times: user 23.7 s, sys: 71.8 ms, total: 23.8 s\n",
            "Wall time: 26.7 s\n"
          ],
          "name": "stdout"
        }
      ]
    },
    {
      "cell_type": "markdown",
      "metadata": {
        "id": "YLo2P7ZKWLs_"
      },
      "source": [
        "Path found! Length: 48.183766184073555. Nodes created: 1767. Number of steps: 1704. Correct: True\n",
        "Path found! Length: 183.5269119345813. Nodes created: 7450. Number of steps: 7441. Correct: True\n",
        "Path found! Length: 369.4457428549503. Nodes created: 45922. Number of steps: 45908. Correct: True\n",
        "Path found! Length: 397.8305191658005. Nodes created: 44471. Number of steps: 44447. Correct: True\n",
        "Path found! Length: 360.0853531617398. Nodes created: 47545. Number of steps: 47538. Correct: True\n",
        "Path found! Length: 344.59292911256387. Nodes created: 28178. Number of steps: 28176. Correct: True\n",
        "Path found! Length: 564.5950211536186. Nodes created: 113988. Number of steps: 113943. Correct: True\n",
        "Path found! Length: 536.2396820942909. Nodes created: 77487. Number of steps: 77393. Correct: True\n",
        "Path found! Length: 589.2741699796965. Nodes created: 96066. Number of steps: 96039. Correct: True\n",
        "48 сек"
      ]
    },
    {
      "cell_type": "markdown",
      "metadata": {
        "id": "NB2OJCMeXouU"
      },
      "source": [
        "## A* algorithm"
      ]
    },
    {
      "cell_type": "code",
      "metadata": {
        "id": "EC1Ux2F5XouU"
      },
      "source": [
        "def DiagonalDistance(i1, j1, i2, j2):\n",
        "    dx = abs(j1 - j2)\n",
        "    dy = abs(i1 - i2)\n",
        "    return abs(dx-dy) + math.sqrt(2)*min(dx, dy)\n"
      ],
      "execution_count": null,
      "outputs": []
    },
    {
      "cell_type": "code",
      "metadata": {
        "id": "FFJk-AhFXouV"
      },
      "source": [
        "def ManhattanDistance(i1, j1, i2, j2):\n",
        "    return abs(i1-i2) + abs(j1-j2)"
      ],
      "execution_count": null,
      "outputs": []
    },
    {
      "cell_type": "code",
      "metadata": {
        "id": "s3tJqhWJXouV"
      },
      "source": [
        "def EuclideanDistance(i1, j1, i2, j2):\n",
        "    return math.sqrt((i1 - i2)**2 + (j1 - j2)**2)"
      ],
      "execution_count": null,
      "outputs": []
    },
    {
      "cell_type": "code",
      "metadata": {
        "id": "_kjew3-mXouV"
      },
      "source": [
        "def AStar(gridMap : Map, iStart : int, jStart : int, iGoal : int, jGoal : int, heuristicFunction = ManhattanDistance, openType = OpenList, closedType = ClosedList, diagonalMoves = False):\n",
        "    '''\n",
        "    добавить проверку в AddNode на наличие ноды в CLOSED (пусть в Open) будут дубликаты, мы все равно будем брать ноду с F значением min\n",
        "    '''\n",
        "    OPEN = openType()\n",
        "    CLOSED = closedType()\n",
        "    OPEN.AddNode(Node(iStart, jStart, g=0, parent=None))\n",
        "\n",
        "    while not OPEN.isEmpty():\n",
        "      s = OPEN.GetBestNode() #method also delete from OPEN\n",
        "      while CLOSED.WasExpanded(s):\n",
        "        s = OPEN.GetBestNode()\n",
        "      \n",
        "      CLOSED.AddNode(s)\n",
        "      if s.i == iGoal and s.j == jGoal:\n",
        "        return (True, s, CLOSED.to_list(), OPEN.to_list())\n",
        "      for i, j in gridMap.GetNeighbors(s.i, s.j, diagonalMoves):\n",
        "        s_ = Node(i, j, g=s.g+ComputeCost(s.i, s.j, i, j), h=heuristicFunction(i, j, iGoal, jGoal), parent=s)\n",
        "        if CLOSED.WasExpanded(s_):\n",
        "          continue\n",
        "        OPEN.AddNode(s_)\n",
        "\n",
        "    return (False, None, CLOSED.to_list(), OPEN.to_list())\n"
      ],
      "execution_count": null,
      "outputs": []
    },
    {
      "cell_type": "code",
      "metadata": {
        "tags": [],
        "id": "M3p0Dm-ZXouV",
        "colab": {
          "base_uri": "https://localhost:8080/",
          "height": 470
        },
        "outputId": "86f6f2f3-8d0b-4888-869d-d4d5334439cc"
      },
      "source": [
        "%time SimpleTest(AStar, 0, ManhattanDistance, OpenList, ClosedList)"
      ],
      "execution_count": null,
      "outputs": [
        {
          "output_type": "stream",
          "text": [
            "Path found! Length: 36. Nodes created: 245. Number of steps: 215. Correct: True\n",
            "CPU times: user 42.2 ms, sys: 0 ns, total: 42.2 ms\n",
            "Wall time: 43.1 ms\n"
          ],
          "name": "stdout"
        },
        {
          "output_type": "execute_result",
          "data": {
            "text/plain": [
              "True"
            ]
          },
          "metadata": {
            "tags": []
          },
          "execution_count": 131
        },
        {
          "output_type": "display_data",
          "data": {
            "image/png": "[encoded data removed]",
            "text/plain": [
              "<Figure size 900x600 with 1 Axes>"
            ]
          },
          "metadata": {
            "tags": [],
            "needs_background": "light"
          }
        }
      ]
    },
    {
      "cell_type": "code",
      "metadata": {
        "id": "AT_GjJBUXouW",
        "colab": {
          "base_uri": "https://localhost:8080/",
          "height": 470
        },
        "outputId": "08e2b3aa-f51f-4ec7-ec5f-381bac1aeb08"
      },
      "source": [
        "%time SimpleTest(AStar, 0, ManhattanDistance, OpenList, YourClosed)"
      ],
      "execution_count": null,
      "outputs": [
        {
          "output_type": "stream",
          "text": [
            "Path found! Length: 36. Nodes created: 245. Number of steps: 215. Correct: True\n",
            "CPU times: user 27.8 ms, sys: 9 µs, total: 27.8 ms\n",
            "Wall time: 26.9 ms\n"
          ],
          "name": "stdout"
        },
        {
          "output_type": "execute_result",
          "data": {
            "text/plain": [
              "True"
            ]
          },
          "metadata": {
            "tags": []
          },
          "execution_count": 34
        },
        {
          "output_type": "display_data",
          "data": {
            "image/png": "[encoded data removed]",
            "text/plain": [
              "<Figure size 900x600 with 1 Axes>"
            ]
          },
          "metadata": {
            "tags": [],
            "needs_background": "light"
          }
        }
      ]
    },
    {
      "cell_type": "code",
      "metadata": {
        "id": "DEES_6GMXouW",
        "colab": {
          "base_uri": "https://localhost:8080/",
          "height": 470
        },
        "outputId": "1a937097-94ea-4feb-9486-81c78b1d5fff"
      },
      "source": [
        "%time SimpleTest(AStar, 0, ManhattanDistance, YourOpen, YourClosed)"
      ],
      "execution_count": null,
      "outputs": [
        {
          "output_type": "stream",
          "text": [
            "Path found! Length: 36. Nodes created: 191. Number of steps: 156. Correct: True\n",
            "CPU times: user 22.4 ms, sys: 0 ns, total: 22.4 ms\n",
            "Wall time: 26.8 ms\n"
          ],
          "name": "stdout"
        },
        {
          "output_type": "execute_result",
          "data": {
            "text/plain": [
              "True"
            ]
          },
          "metadata": {
            "tags": []
          },
          "execution_count": 35
        },
        {
          "output_type": "display_data",
          "data": {
            "image/png": "[encoded data removed]",
            "text/plain": [
              "<Figure size 900x600 with 1 Axes>"
            ]
          },
          "metadata": {
            "tags": [],
            "needs_background": "light"
          }
        }
      ]
    },
    {
      "cell_type": "code",
      "metadata": {
        "id": "656w8JP3XouX",
        "colab": {
          "base_uri": "https://localhost:8080/",
          "height": 470
        },
        "outputId": "4e874bee-c63c-4404-efda-6e3fed96a1ef"
      },
      "source": [
        "%time SimpleTest(AStar, 0, DiagonalDistance, OpenList, YourClosed, True)"
      ],
      "execution_count": null,
      "outputs": [
        {
          "output_type": "stream",
          "text": [
            "Path found! Length: 31.313708498984763. Nodes created: 232. Number of steps: 195. Correct: True\n",
            "CPU times: user 25.8 ms, sys: 0 ns, total: 25.8 ms\n",
            "Wall time: 28.6 ms\n"
          ],
          "name": "stdout"
        },
        {
          "output_type": "execute_result",
          "data": {
            "text/plain": [
              "True"
            ]
          },
          "metadata": {
            "tags": []
          },
          "execution_count": 36
        },
        {
          "output_type": "display_data",
          "data": {
            "image/png": "[encoded data removed]",
            "text/plain": [
              "<Figure size 900x600 with 1 Axes>"
            ]
          },
          "metadata": {
            "tags": [],
            "needs_background": "light"
          }
        }
      ]
    },
    {
      "cell_type": "code",
      "metadata": {
        "id": "yvCuL_6YXouX",
        "colab": {
          "base_uri": "https://localhost:8080/",
          "height": 470
        },
        "outputId": "3fb81e67-cc1b-4fdd-d48a-35f9ba7c94eb"
      },
      "source": [
        "%time SimpleTest(AStar, 0, EuclideanDistance, OpenList, YourClosed, True)"
      ],
      "execution_count": null,
      "outputs": [
        {
          "output_type": "stream",
          "text": [
            "Path found! Length: 31.313708498984763. Nodes created: 237. Number of steps: 203. Correct: True\n",
            "CPU times: user 26.9 ms, sys: 990 µs, total: 27.9 ms\n",
            "Wall time: 34.9 ms\n"
          ],
          "name": "stdout"
        },
        {
          "output_type": "execute_result",
          "data": {
            "text/plain": [
              "True"
            ]
          },
          "metadata": {
            "tags": []
          },
          "execution_count": 37
        },
        {
          "output_type": "display_data",
          "data": {
            "image/png": "[encoded data removed]",
            "text/plain": [
              "<Figure size 900x600 with 1 Axes>"
            ]
          },
          "metadata": {
            "tags": [],
            "needs_background": "light"
          }
        }
      ]
    },
    {
      "cell_type": "code",
      "metadata": {
        "id": "-nILqMCbXouX",
        "colab": {
          "base_uri": "https://localhost:8080/"
        },
        "outputId": "4e472cbd-30b6-42da-848f-6e5ba70b9a5b"
      },
      "source": [
        "#running massive test of A* on 4-connected grids with Manhattan-distance heuristic\n",
        "%time astStat = MassiveTest(AStar, ManhattanDistance, OpenList, YourClosed, False)"
      ],
      "execution_count": null,
      "outputs": [
        {
          "output_type": "stream",
          "text": [
            "Path found! Length: 64. Nodes created: 1133. Number of steps: 1017. Correct: True\n",
            "Path found! Length: 197. Nodes created: 3872. Number of steps: 3734. Correct: True\n",
            "Path found! Length: 462. Nodes created: 22142. Number of steps: 21282. Correct: True\n",
            "Path found! Length: 498. Nodes created: 27671. Number of steps: 27371. Correct: True\n",
            "Path found! Length: 479. Nodes created: 25009. Number of steps: 24281. Correct: True\n",
            "Path found! Length: 402. Nodes created: 11772. Number of steps: 11282. Correct: True\n",
            "Path found! Length: 721. Nodes created: 75602. Number of steps: 75119. Correct: True\n",
            "Path found! Length: 678. Nodes created: 50739. Number of steps: 49829. Correct: True\n",
            "Path found! Length: 683. Nodes created: 54073. Number of steps: 52824. Correct: True\n",
            "CPU times: user 50.9 s, sys: 124 ms, total: 51 s\n",
            "Wall time: 51.1 s\n"
          ],
          "name": "stdout"
        }
      ]
    },
    {
      "cell_type": "code",
      "metadata": {
        "id": "-5U9HELQXouY",
        "colab": {
          "base_uri": "https://localhost:8080/"
        },
        "outputId": "8f39f5ed-25ae-4bdb-c8f2-e2505946d782"
      },
      "source": [
        "#running massive test of A* on 8-connected grids with Manhattan-distance heuristic\n",
        "%time astManhStat = MassiveTest(AStar, EuclideanDistance, OpenList, YourClosed, True)"
      ],
      "execution_count": null,
      "outputs": [
        {
          "output_type": "stream",
          "text": [
            "Path found! Length: 48.183766184073555. Nodes created: 556. Number of steps: 408. Correct: True\n",
            "Path found! Length: 183.5269119345813. Nodes created: 5123. Number of steps: 4936. Correct: True\n",
            "Path found! Length: 369.4457428549503. Nodes created: 24534. Number of steps: 23738. Correct: True\n",
            "Path found! Length: 397.8305191658005. Nodes created: 25604. Number of steps: 25206. Correct: True\n",
            "Path found! Length: 360.0853531617398. Nodes created: 19263. Number of steps: 18499. Correct: True\n",
            "Path found! Length: 344.59292911256387. Nodes created: 16593. Number of steps: 16063. Correct: True\n",
            "Path found! Length: 564.5950211536186. Nodes created: 71365. Number of steps: 70896. Correct: True\n",
            "Path found! Length: 536.2396820942909. Nodes created: 36949. Number of steps: 36250. Correct: True\n",
            "Path found! Length: 589.2741699796965. Nodes created: 57369. Number of steps: 56212. Correct: True\n",
            "CPU times: user 1min 5s, sys: 195 ms, total: 1min 5s\n",
            "Wall time: 1min 5s\n"
          ],
          "name": "stdout"
        }
      ]
    },
    {
      "cell_type": "code",
      "metadata": {
        "id": "2gu5VGDHXouY",
        "colab": {
          "base_uri": "https://localhost:8080/"
        },
        "outputId": "68cdf4cb-c0dc-4071-deb4-a48790d1198d"
      },
      "source": [
        "#running massive test of A* on 8-connected grids with Euclidean-distance heuristic\n",
        "%time astEuclidStat = MassiveTest(AStar, EuclideanDistance, OpenList, YourClosed, True)"
      ],
      "execution_count": null,
      "outputs": [
        {
          "output_type": "stream",
          "text": [
            "Path found! Length: 48.183766184073555. Nodes created: 556. Number of steps: 408. Correct: True\n",
            "Path found! Length: 183.5269119345813. Nodes created: 5123. Number of steps: 4936. Correct: True\n",
            "Path found! Length: 369.4457428549503. Nodes created: 24534. Number of steps: 23738. Correct: True\n",
            "Path found! Length: 397.8305191658005. Nodes created: 25604. Number of steps: 25206. Correct: True\n",
            "Path found! Length: 360.0853531617398. Nodes created: 19263. Number of steps: 18499. Correct: True\n",
            "Path found! Length: 344.59292911256387. Nodes created: 16593. Number of steps: 16063. Correct: True\n",
            "Path found! Length: 564.5950211536186. Nodes created: 71365. Number of steps: 70896. Correct: True\n",
            "Path found! Length: 536.2396820942909. Nodes created: 36949. Number of steps: 36250. Correct: True\n",
            "Path found! Length: 589.2741699796965. Nodes created: 57369. Number of steps: 56212. Correct: True\n",
            "CPU times: user 1min 3s, sys: 147 ms, total: 1min 3s\n",
            "Wall time: 1min 3s\n"
          ],
          "name": "stdout"
        }
      ]
    },
    {
      "cell_type": "code",
      "metadata": {
        "id": "nkLU482zXouY",
        "colab": {
          "base_uri": "https://localhost:8080/"
        },
        "outputId": "f34f6a4c-c811-4262-e1a5-11dcbfedcf24"
      },
      "source": [
        "#running massive test of A* on 8-connected grids with Diagonal-distance heuristic\n",
        "%time astDiagStat = MassiveTest(AStar, DiagonalDistance, YourOpen, YourClosed, True)"
      ],
      "execution_count": null,
      "outputs": [
        {
          "output_type": "stream",
          "text": [
            "Path found! Length: 48.183766184073555. Nodes created: 589. Number of steps: 155. Correct: True\n",
            "Path found! Length: 183.5269119345813. Nodes created: 5513. Number of steps: 4581. Correct: True\n",
            "Path found! Length: 369.44574285495037. Nodes created: 25770. Number of steps: 15786. Correct: True\n",
            "Path found! Length: 397.8305191658006. Nodes created: 25175. Number of steps: 23857. Correct: True\n",
            "Path found! Length: 360.0853531617398. Nodes created: 17527. Number of steps: 11866. Correct: True\n",
            "Path found! Length: 344.5929291125639. Nodes created: 15914. Number of steps: 12918. Correct: True\n",
            "Path found! Length: 564.5950211536186. Nodes created: 70926. Number of steps: 69063. Correct: True\n",
            "Path found! Length: 536.2396820942909. Nodes created: 34063. Number of steps: 30562. Correct: True\n",
            "Path found! Length: 589.2741699796966. Nodes created: 81135. Number of steps: 45829. Correct: True\n",
            "CPU times: user 15.1 s, sys: 30.5 ms, total: 15.1 s\n",
            "Wall time: 15.1 s\n"
          ],
          "name": "stdout"
        }
      ]
    },
    {
      "cell_type": "code",
      "metadata": {
        "id": "btcXK8xAFna1"
      },
      "source": [
        "def WAStar(gridMap : Map, iStart : int, jStart : int, iGoal : int, jGoal : int, heuristicFunction = ManhattanDistance,\\\n",
        "           openType = OpenList, closedType = ClosedList, diagonalMoves = False, hweight = 1.0):\n",
        "    \n",
        "    OPEN = openType()\n",
        "    CLOSED = closedType()\n",
        "    OPEN.AddNode(Node(iStart, jStart, g=0, parent=None))\n",
        "\n",
        "    while not OPEN.isEmpty():\n",
        "      s = OPEN.GetBestNode() #method also delete from OPEN\n",
        "      while CLOSED.WasExpanded(s): # node in CLOSE cant have g value smaller / проверка из-за реализации Open\n",
        "        s = OPEN.GetBestNode()\n",
        "\n",
        "      CLOSED.AddNode(s)\n",
        "      if s.i == iGoal and s.j == jGoal:\n",
        "        return (True, s, CLOSED.to_list(), OPEN.to_list())\n",
        "      for i, j in gridMap.GetNeighbors(s.i, s.j, diagonalMoves):\n",
        "        s_ = Node(i, j)\n",
        "        s_.g = s.g+ComputeCost(s.i, s.j, s_.i, s_.j)\n",
        "        h = hweight*heuristicFunction(i, j, iGoal, jGoal)\n",
        "        s_.parent = s\n",
        "        s_.F = h + s_.g\n",
        "        if CLOSED.WasExpanded(s_):\n",
        "          continue\n",
        "        OPEN.AddNode(s_)\n",
        "\n",
        "    return (False, None, CLOSED.to_list(), OPEN.to_list())"
      ],
      "execution_count": null,
      "outputs": []
    },
    {
      "cell_type": "code",
      "metadata": {
        "colab": {
          "base_uri": "https://localhost:8080/"
        },
        "id": "BVUsoPvYGJAx",
        "outputId": "c2ca8240-ce81-4dd9-f79f-84c7d6580416"
      },
      "source": [
        "#running massive test of A* on 8-connected grids with Diagonal-distance heuristic\n",
        "%time astDiagStat = MassiveTest(WAStar, DiagonalDistance, YourOpen, YourClosed, True)"
      ],
      "execution_count": null,
      "outputs": [
        {
          "output_type": "stream",
          "text": [
            "Path found! Length: 48.183766184073555. Nodes created: 589. Number of steps: 155. Correct: True\n",
            "Path found! Length: 183.5269119345813. Nodes created: 5513. Number of steps: 4581. Correct: True\n",
            "Path found! Length: 369.44574285495037. Nodes created: 25770. Number of steps: 15786. Correct: True\n",
            "Path found! Length: 397.8305191658006. Nodes created: 25175. Number of steps: 23857. Correct: True\n",
            "Path found! Length: 360.0853531617398. Nodes created: 17527. Number of steps: 11866. Correct: True\n",
            "Path found! Length: 344.5929291125639. Nodes created: 15914. Number of steps: 12918. Correct: True\n",
            "Path found! Length: 564.5950211536186. Nodes created: 70926. Number of steps: 69063. Correct: True\n",
            "Path found! Length: 536.2396820942909. Nodes created: 34063. Number of steps: 30562. Correct: True\n",
            "Path found! Length: 589.2741699796966. Nodes created: 81135. Number of steps: 45829. Correct: True\n",
            "CPU times: user 13 s, sys: 31.2 ms, total: 13.1 s\n",
            "Wall time: 13.1 s\n"
          ],
          "name": "stdout"
        }
      ]
    },
    {
      "cell_type": "markdown",
      "metadata": {
        "id": "ZfEcKKw9XouZ"
      },
      "source": [
        "# Analysis of results\n",
        "First of all lets compare Dijkstra and A* algorithms on 4-connected grids\n",
        "\n",
        "Secondly lets compare A* with different heuristics on 8-connected grids\n",
        "\n",
        "Additionally you can compare Dijkstra and A* algorithms on 8-connected grids or A* with different heuristics on 4-connected grids"
      ]
    },
    {
      "cell_type": "markdown",
      "metadata": {
        "id": "_OR4_AZyXouZ"
      },
      "source": [
        "![2](./Image/3.png)"
      ]
    },
    {
      "cell_type": "markdown",
      "metadata": {
        "id": "beqkEa3dXouZ"
      },
      "source": [
        "## Part 1. Dijkstra vs A* on 4-connected grids"
      ]
    },
    {
      "cell_type": "code",
      "metadata": {
        "id": "X-TEVBGQXouZ",
        "colab": {
          "base_uri": "https://localhost:8080/",
          "height": 663
        },
        "outputId": "7c04e1be-629c-4f1d-f3e6-cdb2a5177c1d"
      },
      "source": [
        "fig, axs = plt.subplots(3, 3, figsize=(15,10))\n",
        "fig.suptitle('Average path length')\n",
        "for i in range(9):\n",
        "    ax = axs[i // 3, i % 3]\n",
        "    ax.set_title(str(i) + \" task\")\n",
        "    alg = ['A*', 'Dijkstra']\n",
        "    lens = [astStat['len'][i], dijkStat['len'][i]]\n",
        "    ax.bar(alg, lens)\n",
        "plt.show()"
      ],
      "execution_count": null,
      "outputs": [
        {
          "output_type": "display_data",
          "data": {
            "image/png": "[encoded data removed]",
            "text/plain": [
              "<Figure size 1080x720 with 9 Axes>"
            ]
          },
          "metadata": {
            "tags": [],
            "needs_background": "light"
          }
        }
      ]
    },
    {
      "cell_type": "code",
      "metadata": {
        "id": "68LiUqo1Xoua",
        "colab": {
          "base_uri": "https://localhost:8080/",
          "height": 663
        },
        "outputId": "be72a3d3-2e4d-467c-e93a-33fec874de8e"
      },
      "source": [
        "fig, axs = plt.subplots(3, 3, figsize=(15,10))\n",
        "fig.suptitle('Average number of created nodes')\n",
        "for i in range(9):\n",
        "    ax = axs[i // 3, i % 3]\n",
        "    ax.set_title(str(i) + \" task\")\n",
        "    alg = ['A*', 'Dijkstra']\n",
        "    ncs = [astStat['nc'][i], dijkStat['nc'][i]]\n",
        "    ax.bar(alg, ncs)\n",
        "plt.show()"
      ],
      "execution_count": null,
      "outputs": [
        {
          "output_type": "display_data",
          "data": {
            "image/png": "[encoded data removed]",
            "text/plain": [
              "<Figure size 1080x720 with 9 Axes>"
            ]
          },
          "metadata": {
            "tags": [],
            "needs_background": "light"
          }
        }
      ]
    },
    {
      "cell_type": "code",
      "metadata": {
        "scrolled": true,
        "id": "GuMkcHqZXoua",
        "colab": {
          "base_uri": "https://localhost:8080/",
          "height": 663
        },
        "outputId": "97c3289d-8469-4015-b83c-38bfddd8a5db"
      },
      "source": [
        "fig, axs = plt.subplots(3, 3, figsize=(15,10))\n",
        "fig.suptitle('Average number of steps')\n",
        "for i in range(9):\n",
        "    ax = axs[i // 3, i % 3]\n",
        "    ax.set_title(str(i) + \" task\")\n",
        "    alg = ['A*', 'Dijkstra']\n",
        "    sts = [astStat['st'][i], dijkStat['st'][i]]\n",
        "    ax.bar(alg, sts)\n",
        "plt.show()"
      ],
      "execution_count": null,
      "outputs": [
        {
          "output_type": "display_data",
          "data": {
            "image/png": "[encoded data removed]",
            "text/plain": [
              "<Figure size 1080x720 with 9 Axes>"
            ]
          },
          "metadata": {
            "tags": [],
            "needs_background": "light"
          }
        }
      ]
    },
    {
      "cell_type": "markdown",
      "metadata": {
        "id": "_YnwFQ13Xoua"
      },
      "source": [
        "## Part 2. A* with different heuristics on 8-connected grids"
      ]
    },
    {
      "cell_type": "code",
      "metadata": {
        "id": "7GApvvruXoub",
        "colab": {
          "base_uri": "https://localhost:8080/",
          "height": 663
        },
        "outputId": "740806f6-1686-432e-d354-41a0eede7d88"
      },
      "source": [
        "fig, axs = plt.subplots(3, 3, figsize=(15,10))\n",
        "fig.suptitle('Average path length')\n",
        "for i in range(9):\n",
        "    ax = axs[i // 3, i % 3]\n",
        "    ax.set_title(str(i) + \" task\")\n",
        "    alg = ['Manhattan', 'Euclidean', 'Diagonal']\n",
        "    lens = [astManhStat['len'][i], astEuclidStat['len'][i], astDiagStat['len'][i]]\n",
        "    ax.bar(alg, lens)\n",
        "plt.show()"
      ],
      "execution_count": null,
      "outputs": [
        {
          "output_type": "display_data",
          "data": {
            "image/png": "[encoded data removed]",
            "text/plain": [
              "<Figure size 1080x720 with 9 Axes>"
            ]
          },
          "metadata": {
            "tags": [],
            "needs_background": "light"
          }
        }
      ]
    },
    {
      "cell_type": "code",
      "metadata": {
        "id": "MF92VE7PXoub",
        "colab": {
          "base_uri": "https://localhost:8080/",
          "height": 663
        },
        "outputId": "ec9ea49a-d5c6-442a-bd73-69b690e8cc1f"
      },
      "source": [
        "fig, axs = plt.subplots(3, 3, figsize=(15,10))\n",
        "fig.suptitle('Average number of created nodes')\n",
        "for i in range(9):\n",
        "    ax = axs[i // 3, i % 3]\n",
        "    ax.set_title(str(i) + \" task\")\n",
        "    alg = ['Manhattan', 'Euclidean', 'Diagonal']\n",
        "    ncs = [astManhStat['nc'][i], astEuclidStat['nc'][i], astDiagStat['nc'][i]]\n",
        "    ax.bar(alg, ncs)\n",
        "plt.show()"
      ],
      "execution_count": null,
      "outputs": [
        {
          "output_type": "display_data",
          "data": {
            "image/png": "[encoded data removed]",
            "text/plain": [
              "<Figure size 1080x720 with 9 Axes>"
            ]
          },
          "metadata": {
            "tags": [],
            "needs_background": "light"
          }
        }
      ]
    },
    {
      "cell_type": "code",
      "metadata": {
        "id": "nxHebQDKXoub",
        "colab": {
          "base_uri": "https://localhost:8080/",
          "height": 663
        },
        "outputId": "afcba109-fbb0-401c-d3f5-019141ee98f9"
      },
      "source": [
        "fig, axs = plt.subplots(3, 3, figsize=(15,10))\n",
        "fig.suptitle('Average number of steps')\n",
        "for i in range(9):\n",
        "    ax = axs[i // 3, i % 3]\n",
        "    ax.set_title(str(i) + \" task\")\n",
        "    alg = ['Manhattan', 'Euclidean', 'Diagonal']\n",
        "    ncs = [astManhStat['st'][i], astEuclidStat['st'][i], astDiagStat['st'][i]]\n",
        "    ax.bar(alg, ncs)\n",
        "plt.show()"
      ],
      "execution_count": null,
      "outputs": [
        {
          "output_type": "display_data",
          "data": {
            "image/png": "[encoded data removed]",
            "text/plain": [
              "<Figure size 1080x720 with 9 Axes>"
            ]
          },
          "metadata": {
            "tags": [],
            "needs_background": "light"
          }
        }
      ]
    },
    {
      "cell_type": "code",
      "metadata": {
        "id": "NBC651tSXouc"
      },
      "source": [
        ""
      ],
      "execution_count": null,
      "outputs": []
    }
  ]
}
