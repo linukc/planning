{
 "cells": [
  {
   "cell_type": "markdown",
   "metadata": {},
   "source": [
    "# Path Planning On a Grid with Velocity/Orientation"
   ]
  },
  {
   "cell_type": "markdown",
   "metadata": {},
   "source": [
    "![1](./Image/1.png)"
   ]
  },
  {
   "cell_type": "markdown",
   "metadata": {},
   "source": [
    "In this lab your task is to implement `A*` and its suboptimal version - `WA*` (Weighted A*) to solve path planning problems on a grid for an agent with orientation.\n",
    "\n",
    "**The search space state is considered by the four variables - `<i, j, v, o>`**, where `i` and `j` are the cell's coordinates, `v` - velocity speed, `o` - orientation. It's assumed that the agent have two velocity speeds - 1 and 0. If the agent moves with a constant speed 1, the cost-coefficient of transition is 1. If it needs to accelerate OR to stop, then the transition cost is increased by 0.5. If it needs to accelerate AND to stop, then the transition cost is increased by 1.\n",
    "The agent can rotate only when the velocity speed is 0. The rotation speed is constant. It requires 1 time unit to rotate for 90 degrees.\n",
    "\n",
    "You can use the implementation of `A*` you have created in the previous lab. You need to modify it in such a way, that it can take into account agent's velocity and orientation. You also need to create a subomtimal version of the algorithm that uses an inflated heuristic function. After that you need to run some tests and evaluate the influence of suboptimality factor of `WA*` on its performance and solution quality."
   ]
  },
  {
   "cell_type": "markdown",
   "metadata": {},
   "source": [
    "<img src=\"./Image/2new.png\" alt=\"Drawing\" style=\"width: 300px;\"/>"
   ]
  },
  {
   "cell_type": "markdown",
   "metadata": {},
   "source": [
    "Run every cell of the notebook, completing the tasks described in them. Good luck!"
   ]
  },
  {
   "cell_type": "code",
   "execution_count": 1,
   "metadata": {},
   "outputs": [],
   "source": [
    "from PIL import Image, ImageDraw\n",
    "import numpy as np\n",
    "import matplotlib.pyplot as plt\n",
    "import math\n",
    "from sys import float_info\n",
    "EPS = float_info.epsilon\n",
    "%matplotlib inline"
   ]
  },
  {
   "cell_type": "markdown",
   "metadata": {},
   "source": [
    "### Grid map representation \n",
    "\n",
    "Square grid map class represents the environment for our moving agent\n",
    "\n",
    "- width -- the number of columns in the grid\n",
    "- height -- the number of rows in the grid\n",
    "- cells -- the binary matrix, that represents the grid. 0 - cell is traversable, 1 - cell is blocked"
   ]
  },
  {
   "cell_type": "code",
   "execution_count": 2,
   "metadata": {},
   "outputs": [],
   "source": [
    "class Map:\n",
    "\n",
    "    def __init__(self):\n",
    "        '''\n",
    "        Default constructor\n",
    "        '''\n",
    "\n",
    "        self.width = 0\n",
    "        self.height = 0\n",
    "        self.cells = []\n",
    "    \n",
    "\n",
    "    def ReadFromString(self, cellStr, width, height):\n",
    "        '''\n",
    "        Converting a string (with '#' representing obstacles and '.' representing free cells) to a grid\n",
    "        '''\n",
    "        self.width = width\n",
    "        self.height = height\n",
    "        self.cells = [[0 for _ in range(width)] for _ in range(height)]\n",
    "        cellLines = cellStr.split(\"\\n\")\n",
    "        i = 0\n",
    "        j = 0\n",
    "        for l in cellLines:\n",
    "            if len(l) != 0:\n",
    "                j = 0\n",
    "                for c in l:\n",
    "                    if c == '.':\n",
    "                        self.cells[i][j] = 0\n",
    "                    elif c == '#':\n",
    "                        self.cells[i][j] = 1\n",
    "                    else:\n",
    "                        continue\n",
    "                    j += 1\n",
    "                if j != width:\n",
    "                    raise Exception(\"Size Error. Map width = \", j, \", but must be\", width )\n",
    "                \n",
    "                i += 1\n",
    "\n",
    "        if i != height:\n",
    "            raise Exception(\"Size Error. Map height = \", i, \", but must be\", height )\n",
    "    \n",
    "     \n",
    "    def SetGridCells(self, width, height, gridCells):\n",
    "        '''\n",
    "        Initialization of map by list of cells.\n",
    "        '''\n",
    "        self.width = width\n",
    "        self.height = height\n",
    "        self.cells = gridCells\n",
    "\n",
    "\n",
    "    def inBounds(self, i, j):\n",
    "        '''\n",
    "        Check if the cell is on a grid.\n",
    "        '''\n",
    "        return (0 <= j < self.width) and (0 <= i < self.height)\n",
    "    \n",
    "\n",
    "    def Traversable(self, i, j):\n",
    "        '''\n",
    "        Check if the cell is not an obstacle.\n",
    "        '''\n",
    "        return not self.cells[i][j]\n",
    "\n",
    "\n",
    "    def GetNeighbors(self, i, j, speed, orientation, diagonalMoves = False):\n",
    "        '''\n",
    "        Get a list of neighbouring cells as (i,j) tuples.\n",
    "        ''' \n",
    "#!!!TODO!!!\n",
    "        neighbors = []\n",
    "        return neighbors"
   ]
  },
  {
   "cell_type": "markdown",
   "metadata": {},
   "source": [
    "Computes the cost of a transition from cell `(i1, j1)` to cell `(i2, j2)`. In case of 4-connected grid it is always equal to 1. However if other moves are allowed, the cost of a transition may vary."
   ]
  },
  {
   "cell_type": "code",
   "execution_count": 3,
   "metadata": {},
   "outputs": [],
   "source": [
    "def ComputeCost(NodeA, NodeB):\n",
    "    '''\n",
    "    Computes cost depending on the type of action (transition or rotation) and initial/end velocity speed\n",
    "    '''\n",
    "#!!!TODO!!!\n",
    "    #if action is rotation:\n",
    "    #    cost = ...\n",
    "    #else:\n",
    "    #    cost = ...\n",
    "    return cost"
   ]
  },
  {
   "cell_type": "markdown",
   "metadata": {},
   "source": [
    "### Search Node Representation\n",
    "\n"
   ]
  },
  {
   "cell_type": "code",
   "execution_count": 4,
   "metadata": {},
   "outputs": [],
   "source": [
    "class Node:\n",
    "    '''\n",
    "    Node class represents a search node\n",
    "\n",
    "    - i, j: coordinates of corresponding grid element\n",
    "    - g: g-value of the node\n",
    "    - h: h-value of the node\n",
    "    - F: f-value of the node\n",
    "    - parent: pointer to the parent-node \n",
    "\n",
    "    You might want to add other fields, methods for Node, depending on how you prefer to implement OPEN/CLOSED further on\n",
    "    '''\n",
    "\n",
    "    def __init__(self, i, j, speed=None, orientation=None, g = 0, h = 0, F = None, parent = None):\n",
    "        self.i = i\n",
    "        self.j = j\n",
    "        self.g = g\n",
    "        self.h = h\n",
    "        self.speed = speed\n",
    "        self.orientation = orientation\n",
    "        if F is None:\n",
    "            self.F = self.g + h\n",
    "        else:\n",
    "            self.F = F        \n",
    "        self.parent = parent\n",
    "    \n",
    "    \n",
    "    def __eq__(self, other):\n",
    "        return (self.i == other.i) and (self.j == other.j) and (self.speed == other.speed) and (self.orientation == other.orientation)\n",
    "    \n",
    "    def __lt__(self, other): #self < other (self has higher priority)\n",
    "        return self.F < other.F or (abs(self.F - other.F) < EPS and (self.g > other.g))"
   ]
  },
  {
   "cell_type": "markdown",
   "metadata": {},
   "source": [
    "### Visualization"
   ]
  },
  {
   "cell_type": "code",
   "execution_count": 5,
   "metadata": {
    "tags": []
   },
   "outputs": [],
   "source": [
    "def Draw(gridMap : Map, start : Node = None, goal : Node = None, path : list = None, nodesExpanded = None, nodesOpened = None):\n",
    "    '''\n",
    "    Auxiliary function that visualizes the enviromnet, the path and OPEN and CLOSED.\n",
    "    '''\n",
    "    k = 5\n",
    "    hIm = gridMap.height * k\n",
    "    wIm = gridMap.width * k\n",
    "    im = Image.new('RGB', (wIm, hIm), color = 'white')\n",
    "    draw = ImageDraw.Draw(im)\n",
    "    for i in range(gridMap.height):\n",
    "        for j in range(gridMap.width):\n",
    "            if(gridMap.cells[i][j] == 1):\n",
    "                draw.rectangle((j * k, i * k, (j + 1) * k - 1, (i + 1) * k - 1), fill=( 70, 80, 80 ))\n",
    "\n",
    "    if nodesOpened is not None:\n",
    "        for node in nodesOpened:\n",
    "            draw.rectangle((node.j * k, node.i * k, (node.j + 1) * k - 1, (node.i + 1) * k - 1), fill=(213, 219, 219), width=0)\n",
    "\n",
    "    if nodesExpanded is not None:\n",
    "        for node in nodesExpanded:\n",
    "            draw.rectangle((node.j * k, node.i * k, (node.j + 1) * k - 1, (node.i + 1) * k - 1), fill=( 131, 145, 146 ), width=0)\n",
    "\n",
    "    if path is not None:\n",
    "        for step in path:\n",
    "            if (step is not None):\n",
    "                if (gridMap.Traversable(step.i, step.j)):\n",
    "                    draw.rectangle((step.j * k, step.i * k, (step.j + 1) * k - 1, (step.i + 1) * k - 1), fill=(52, 152, 219), width=0)\n",
    "                else:\n",
    "                    draw.rectangle((step.j * k, step.i * k, (step.j + 1) * k - 1, (step.i + 1) * k - 1), fill=(230, 126, 34), width=0)\n",
    "\n",
    "    if (start is not None) and (gridMap.Traversable(start.i, start.j)):\n",
    "        draw.rectangle((start.j * k, start.i * k, (start.j + 1) * k - 1, (start.i + 1) * k - 1), fill=(40, 180, 99), width=0)\n",
    "    \n",
    "    if (goal is not None) and (gridMap.Traversable(goal.i, goal.j)):\n",
    "        draw.rectangle((goal.j * k, goal.i * k, (goal.j + 1) * k - 1, (goal.i + 1) * k - 1), fill=(231, 76, 60), width=0)\n",
    "\n",
    "\n",
    "    fig, ax = plt.subplots(dpi=150)\n",
    "    ax.axes.xaxis.set_visible(False)\n",
    "    ax.axes.yaxis.set_visible(False)\n",
    "    plt.imshow(np.asarray(im))\n",
    "    \n",
    "    \n"
   ]
  },
  {
   "cell_type": "markdown",
   "metadata": {},
   "source": [
    "Example of the visualization"
   ]
  },
  {
   "cell_type": "code",
   "execution_count": 6,
   "metadata": {
    "tags": []
   },
   "outputs": [
    {
     "data": {
      "image/png": "[encoded data removed]",
      "text/plain": [
       "<Figure size 900x600 with 1 Axes>"
      ]
     },
     "metadata": {
      "needs_background": "light"
     },
     "output_type": "display_data"
    }
   ],
   "source": [
    "height = 15\n",
    "width = 30\n",
    "mapstr = '''\n",
    ". . . . . . . . . . . . . . . . . . . . . # # . . . . . . .  \n",
    ". . . . . . . . . . . . . . . . . . . . . # # . . . . . . . \n",
    ". . . . . . . . . . . . . . . . . . . . . # # . . . . . . . \n",
    ". . . # # . . . . . . . . . . . . . . . . # # . . . . . . . \n",
    ". . . # # . . . . . . . . # # . . . . . . # # . . . . . . . \n",
    ". . . # # . . . . . . . . # # . . . . . . # # # # # . . . . \n",
    ". . . # # . . . . . . . . # # . . . . . . # # # # # . . . . \n",
    ". . . # # . . . . . . . . # # . . . . . . . . . . . . . . . \n",
    ". . . # # . . . . . . . . # # . . . . . . . . . . . . . . . \n",
    ". . . # # . . . . . . . . # # . . . . . . . . . . . . . . . \n",
    ". . . # # . . . . . . . . # # . . . . . . . . . . . . . . . \n",
    ". . . # # . . . . . . . . # # . . . . . . . . . . . . . . . \n",
    ". . . . . . . . . . . . . # # . . . . . . . . . . . . . . . \n",
    ". . . . . . . . . . . . . # # . . . . . . . . . . . . . . .\n",
    ". . . . . . . . . . . . . # # . . . . . . . . . . . . . . .\n",
    "'''\n",
    "\n",
    "testMap = Map()\n",
    "testMap.ReadFromString(mapstr, width, height)\n",
    "start = Node(1, 1)\n",
    "goal = Node(13, 28)\n",
    "Draw(testMap, start, goal)\n",
    "\n"
   ]
  },
  {
   "cell_type": "markdown",
   "metadata": {},
   "source": [
    "### Implementing OPEN and CLOSED\n",
    "Efficient implementation of OPEN and CLOSED is crucial for any search algorithm. Below you may find basic implementations that use lists to store the elements of OPEN and CLOSED. This is not very efficient. Your task is to create your own implementations.\n",
    "\n",
    "It's a good idea to modify CLOSED first (as it is pretty straghtforward to do so). Then check that everything is OK, i.e. the search algorithms work faster and the result is correct. Then proceed to modifying OPEN (which is not that trivial as might seem).\n",
    "\n",
    "PS: You may wish to add additional fields, methods, method-arguments etc. to your implementations.\n"
   ]
  },
  {
   "cell_type": "code",
   "execution_count": 7,
   "metadata": {},
   "outputs": [],
   "source": [
    "class OpenBase:\n",
    "\n",
    "    def __init__(self):\n",
    "        pass\n",
    "\n",
    "\n",
    "    def __len__(self):\n",
    "        pass\n",
    "\n",
    "\n",
    "    def __iter__(self):\n",
    "        pass\n",
    "\n",
    "\n",
    "    def isEmpty(self):\n",
    "        '''\n",
    "        isEmpty should inform whether the OPEN is exhausted or not in the former case the search main loop should be interrupted\n",
    "        '''\n",
    "        pass\n",
    "\n",
    "\n",
    "    def AddNode(self, node : Node, *args):\n",
    "        '''\n",
    "        AddNode is the method that puts (e.g. inserts or updates) the node to OPEN\n",
    "        When implementing it do not forget to handle all possible cases:\n",
    "         - node already in OPEN but the new g-value is better;\n",
    "         - node already in OPEN but the new g-value is worse;\n",
    "         - node is not in OPEN yet.\n",
    "        '''\n",
    "        pass\n",
    "\n",
    "\n",
    "    def GetBestNode(self, *args):\n",
    "        '''\n",
    "        GetBestNode is the method that \n",
    "         i) finds the best node, i.e. the one with the lowest f-value (f=g+h) (for Dijkstra h=0),\n",
    "         ii) removes it from OPEN and \n",
    "         iii) returns it\n",
    "        '''\n",
    "        pass\n",
    "\n"
   ]
  },
  {
   "cell_type": "code",
   "execution_count": 8,
   "metadata": {},
   "outputs": [],
   "source": [
    "class OpenList (OpenBase):\n",
    "\n",
    "    def __init__(self):\n",
    "        self.elements = []\n",
    "    \n",
    "\n",
    "    def __iter__(self):\n",
    "        return iter(self.elements)\n",
    "\n",
    "\n",
    "    def __len__(self):\n",
    "        return len(self.elements)\n",
    "\n",
    "\n",
    "    def isEmpty(self):\n",
    "        if len(self.elements) != 0:\n",
    "            return False\n",
    "        return True\n",
    "    \n",
    "\n",
    "    def GetBestNode(self, *args):\n",
    "        bestF = math.inf\n",
    "        bestCoord = 0\n",
    "        for i in range(len(self.elements)):\n",
    "            if self.elements[i].F < bestF:\n",
    "                bestCoord = i\n",
    "                bestF = self.elements[i].F\n",
    "                \n",
    "        best = self.elements.pop(bestCoord)\n",
    "        return best\n",
    "    \n",
    "\n",
    "    def AddNode(self, node : Node, *args):\n",
    "        for existingNode in self.elements:\n",
    "            if existingNode == node:\n",
    "                if existingNode.g > node.g:\n",
    "                    existingNode.g = node.g\n",
    "                    existingNode.F = node.F\n",
    "                    existingNode.parent = node.parent\n",
    "                    return\n",
    "                else:\n",
    "                    return\n",
    "        self.elements.append(node)\n",
    "        return\n"
   ]
  },
  {
   "cell_type": "code",
   "execution_count": 9,
   "metadata": {},
   "outputs": [],
   "source": [
    "class ClosedBase:\n",
    "\n",
    "    def __init__(self):\n",
    "        pass\n",
    "\n",
    "\n",
    "    def __iter__(self):\n",
    "        pass\n",
    "    \n",
    "\n",
    "    def __len__(self):\n",
    "        pass\n",
    "    \n",
    "    \n",
    "    def AddNode(self, item : Node):\n",
    "        pass\n",
    "\n",
    "\n",
    "    def WasExpanded(self, item : Node):\n",
    "        pass\n",
    "\n"
   ]
  },
  {
   "cell_type": "code",
   "execution_count": 10,
   "metadata": {},
   "outputs": [],
   "source": [
    "class ClosedList (ClosedBase):\n",
    "\n",
    "    \n",
    "    def __init__(self):\n",
    "        self.elements = []\n",
    "\n",
    "\n",
    "    def __iter__(self):\n",
    "        return iter(self.elements)\n",
    "    \n",
    "\n",
    "    def __len__(self):\n",
    "        return len(self.elements)\n",
    "    \n",
    "\n",
    "    def AddNode(self, item : Node):\n",
    "        '''\n",
    "        AddNode is the method that inserts the node to CLOSED\n",
    "        '''\n",
    "        self.elements.append(item)\n",
    "     \n",
    "     \n",
    "    def WasExpanded(self, item : Node):\n",
    "        '''\n",
    "        WasExpanded is the method that checks if a node has been expanded\n",
    "        '''\n",
    "        return item in self.elements"
   ]
  },
  {
   "cell_type": "code",
   "execution_count": 11,
   "metadata": {},
   "outputs": [],
   "source": [
    "class YourOpen (OpenBase):\n",
    "    '''\n",
    "    !!!TODO!!!\n",
    "    Create your own modification of OPEN#\n",
    "    '''\n",
    "    \n",
    "    def __init__(self):\n",
    "        pass\n",
    "    \n",
    "    def __iter__(self):\n",
    "        pass\n",
    "    \n",
    "    def __len__(self):\n",
    "        pass\n",
    "\n",
    "    def isEmpty(self):\n",
    "        pass\n",
    "\n",
    "    def AddNode(self, *args):\n",
    "        pass\n",
    "\n",
    "    def GetBestNode(self, *args):\n",
    "        pass"
   ]
  },
  {
   "cell_type": "code",
   "execution_count": 13,
   "metadata": {},
   "outputs": [],
   "source": [
    "class YourClosed (ClosedBase):\n",
    "    '''\n",
    "    !!!TODO!!!\n",
    "    Create your own modification of CLOSED#\n",
    "    '''\n",
    "\n",
    "    def __init__(self):\n",
    "        pass\n",
    "\n",
    "\n",
    "    def __iter__(self):\n",
    "        pass\n",
    "    \n",
    "\n",
    "    def __len__(self):\n",
    "        pass\n",
    "\n",
    "\n",
    "    def AddNode(self, item : Node):\n",
    "        pass\n",
    "\n",
    "\n",
    "    def WasExpanded(self, item : Node):\n",
    "        pass"
   ]
  },
  {
   "cell_type": "markdown",
   "metadata": {},
   "source": [
    "## Weighted A* algorithm with velocity/orientation"
   ]
  },
  {
   "cell_type": "code",
   "execution_count": 15,
   "metadata": {},
   "outputs": [],
   "source": [
    "def DiagonalDistance(i1, j1, i2, j2):\n",
    "    pass"
   ]
  },
  {
   "cell_type": "code",
   "execution_count": 16,
   "metadata": {},
   "outputs": [],
   "source": [
    "def ManhattanDistance(i1, j1, i2, j2):\n",
    "    pass"
   ]
  },
  {
   "cell_type": "code",
   "execution_count": 17,
   "metadata": {},
   "outputs": [],
   "source": [
    "def EuclideanDistance(i1, j1, i2, j2):\n",
    "    return math.sqrt((i1 - i2)**2 + (j1 - j2)**2)"
   ]
  },
  {
   "cell_type": "code",
   "execution_count": 18,
   "metadata": {},
   "outputs": [],
   "source": [
    "def getOrientation(parent, node):\n",
    "    heading = math.acos((node.j - parent.j)/math.sqrt((node.i - parent.i)**2 + (node.j - parent.j)**2))*180/math.pi\n",
    "    if parent.i < node.i:\n",
    "        heading = 360 - heading\n",
    "    return heading"
   ]
  },
  {
   "cell_type": "code",
   "execution_count": 19,
   "metadata": {},
   "outputs": [],
   "source": [
    "def WAStar(gridMap : Map, iStart : int, jStart : int, iGoal : int, jGoal : int, heuristicFunction = ManhattanDistance,\\\n",
    "           openType = OpenList, closedType = ClosedList, diagonalMoves = False, hweight = 1.0):\n",
    "    '''\n",
    "    !!!TODO!!!\n",
    "    '''\n",
    "    \n",
    "    OPEN = openType()\n",
    "    CLOSED = closedType()\n",
    "\n",
    "    return False, None, CLOSED, OPEN"
   ]
  },
  {
   "cell_type": "markdown",
   "metadata": {},
   "source": [
    "### Validating the results\n"
   ]
  },
  {
   "cell_type": "code",
   "execution_count": 21,
   "metadata": {},
   "outputs": [],
   "source": [
    "def MakePath(goal):\n",
    "    '''\n",
    "    Creates a path by tracing parent pointers from the goal node to the start node\n",
    "    It also returns path's length.\n",
    "    '''\n",
    "\n",
    "    length = goal.g\n",
    "    current = goal\n",
    "    path = []\n",
    "    while current.parent:\n",
    "        path.append(current)\n",
    "        current = current.parent\n",
    "    path.append(current)\n",
    "    return path[::-1], length"
   ]
  },
  {
   "cell_type": "code",
   "execution_count": 22,
   "metadata": {},
   "outputs": [],
   "source": [
    "def ReadTaskFromFile(path):\n",
    "    '''\n",
    "    Reads map, start/goal positions and true value of path length between given start and goal from file by path. \n",
    "    '''\n",
    "\n",
    "    tasksFile = open(path)\n",
    "    count = 0\n",
    "    height = int(tasksFile.readline())\n",
    "    width = int(tasksFile.readline())\n",
    "    cells = [[0 for _ in range(width)] for _ in range(height)]\n",
    "    i = 0\n",
    "    j = 0\n",
    "\n",
    "    for l in tasksFile:\n",
    "        j = 0\n",
    "        for c in l:\n",
    "            if c == '.':\n",
    "                cells[i][j] = 0\n",
    "            elif c == '#':\n",
    "                cells[i][j] = 1\n",
    "            else:\n",
    "                continue\n",
    "            \n",
    "            j += 1\n",
    "            \n",
    "        if j != width:\n",
    "            raise Exception(\"Size Error. Map width = \", j, \", but must be\", width, \"(map line: \", i, \")\")\n",
    "                \n",
    "        i += 1\n",
    "        if(i == height):\n",
    "            break\n",
    "    \n",
    "    iStart = int(tasksFile.readline())\n",
    "    jStart = int(tasksFile.readline())\n",
    "    iGoal = int(tasksFile.readline())\n",
    "    jGoal = int(tasksFile.readline())\n",
    "    cardinalLength = float(tasksFile.readline())\n",
    "    diagonalLength = float(tasksFile.readline())\n",
    "    return (width, height, cells, iStart, jStart, iGoal, jGoal, cardinalLength, diagonalLength)"
   ]
  },
  {
   "cell_type": "markdown",
   "metadata": {},
   "source": [
    "`Simpletest` tests the pathfing algorithm on a single simple instance, `Massivetest` - on a series of a move involved instances. Both tests assume that the search function fits the following pattern:\n",
    "\n",
    "\n",
    "`Search(taskMap, start.i, start.j, goal.i, goal.j, *optional arguments*) -> (pathFound, lastState, CLOSED, OPEN)`, where\n",
    "\n",
    "- taskMap -- grid\n",
    "- start.i, start.j -- (i,j) coordinates of the start cell\n",
    "- goal.i, goal.j -- (i,j) coordinates of the goal cell\n",
    "- *optional arguments* -- additional parameters of the search function, passed with `*args`. Example of additional parameters you can see at Dijkstra and A* functions\n",
    "- pathFound -- `True` if path was found, `False` otherwise\n",
    "- lastState -- last state of the path. `None` if path was not found\n",
    "- CLOSED -- CLOSED set (at the last step)\n",
    "- OPEN -- OPEN set (at the last step)"
   ]
  },
  {
   "cell_type": "code",
   "execution_count": 23,
   "metadata": {},
   "outputs": [],
   "source": [
    "from random import randint\n",
    "\n",
    "def SimpleTest(SearchFunction, task, *args):\n",
    "    '''\n",
    "    SimpleTest runs SearchFunction on one task (use a number from 0 to 25 to choose a certain debug task on simple map or None to choose a random task from this pool) with *args as optional arguments and displays:\n",
    "     - 'Path found!' and some statistics -- path was found\n",
    "     - 'Path not found!' -- path was not found\n",
    "     - 'Execution error' -- an error occurred while executing the SearchFunction In first two cases function also draws visualisation of the task\n",
    "\n",
    "    '''\n",
    "    \n",
    "    height = 15\n",
    "    width = 30\n",
    "    mapstr = '''\n",
    ". . . . . . . . . . . . . . . . . . . . . # # . . . . . . .  \n",
    ". . . . . . . . . . . . . . . . . . . . . # # . . . . . . . \n",
    ". . . . . . . . . . . . . . . . . . . . . # # . . . . . . . \n",
    ". . . # # . . . . . . . . . . . . . . . . # # . . . . . . . \n",
    ". . . # # . . . . . . . . # # . . . . . . # # . . . . . . . \n",
    ". . . # # . . . . . . . . # # . . . . . . # # # # # . . . . \n",
    ". . . # # . . . . . . . . # # . . . . . . # # # # # . . . . \n",
    ". . . # # . . . . . . . . # # . . . . . . . . . . . . . . . \n",
    ". . . # # . . . . . . . . # # . . . . . . . . . . . . . . . \n",
    ". . . # # . . . . . . . . # # . . . . . . . . . . . . . . . \n",
    ". . . # # . . . . . . . . # # . . . . . . . . . . . . . . . \n",
    ". . . # # . . . . . . . . # # . . . . . . . . . . . . . . . \n",
    ". . . . . . . . . . . . . # # . . . . . . . . . . . . . . . \n",
    ". . . . . . . . . . . . . # # . . . . . . . . . . . . . . .\n",
    ". . . . . . . . . . . . . # # . . . . . . . . . . . . . . .\n",
    "'''\n",
    "\n",
    "    taskMap = Map()\n",
    "    taskMap.ReadFromString(mapstr, width, height)\n",
    "    starts = [(9, 0), (13, 0), (7, 28), (14, 29), (4, 1), (0, 17), (5, 6), (5, 20), (12, 2), (7, 28), (11, 9), (3, 2), (3, 17), (13, 20), (1, 1), (9, 10), (14, 6), (2, 0), (9, 28), (8, 6), (11, 6), (3, 0), (8, 9), (14, 7), (12, 4)]\n",
    "    goals = [(11, 20), (2, 19), (6, 5), (4, 18), (9, 20), (7, 0), (2, 25), (12, 4), (3, 25), (0, 12), (4, 23), (2, 24), (9, 2), (1, 6), (13, 29), (14, 29), (2, 28), (14, 16), (13, 0), (1, 27), (14, 25), (10, 20), (12, 28), (2, 29), (1, 29)]\n",
    "    cardLengths = [42, 34, 39, 26, 34, 29, 44, 35, 55, 30, 47, 49, 29, 30, 45, 44, 52, 31, 55, 46, 46, 35, 41, 52 ,55]\n",
    "    diagLengths = [39.31370849898476, 31.313708498984763, 33.39949493661167, 21.72792206135786, 31.485281374238575,\\\n",
    "                       27.656854249492383, 37.39949493661167, 30.72792206135786, 47.47056274847714, 23.39949493661167,\\\n",
    "                       42.89949493661167, 43.39949493661166, 28.414213562373096, 26.89949493661167, 36.97056274847715,\\\n",
    "                       36.38477631085024, 45.970562748477136, 30.82842712474619 ,46.79898987322332, 38.72792206135786,\\\n",
    "                       36.627416997969526, 30.89949493661167, 33.97056274847715, 45.970562748477136, 47.79898987322333]\n",
    "\n",
    "\n",
    "    if (task is None) or not (0 <= task < 25):\n",
    "        task = randint(0, 24)\n",
    "\n",
    "\n",
    "    start = Node(*starts[task])\n",
    "    goal = Node(*goals[task])\n",
    "    cardLength = cardLengths[task]\n",
    "    diagLength = diagLengths[task]\n",
    "    try:\n",
    "        result = SearchFunction(taskMap, start.i, start.j, goal.i, goal.j, *args)\n",
    "        nodesExpanded = result[2]\n",
    "        nodesOpened = result[3]\n",
    "        if result[0]:\n",
    "            path = MakePath(result[1])\n",
    "            correct = (int(path[1])  == int(cardLength) or abs(float(path[1]) - float(diagLength)) < 1e-6)\n",
    "            Draw(taskMap, start, goal, path[0], nodesExpanded, nodesOpened)\n",
    "            print(\"Path found! Length: \" + str(path[1]) + \". Nodes created: \" + str(len(nodesOpened) + len(nodesExpanded)) + \". Number of steps: \" + str(len(nodesExpanded)) + \". Correct: \" + str(correct))\n",
    "        else:\n",
    "            print(\"Path not found!\")\n",
    "\n",
    "    except Exception as e:\n",
    "        print(\"Execution error\")\n",
    "        print(e)"
   ]
  },
  {
   "cell_type": "code",
   "execution_count": 24,
   "metadata": {},
   "outputs": [],
   "source": [
    "def MassiveTest(SearchFunction, *args):\n",
    "    '''\n",
    "    MassiveTest runs SearchFunction on set of differnt tasks (from directory Data/) with *args as optional arguments and for every task displays one of these short reports:\n",
    "     - 'Path found!' and some statistics -- path was found\n",
    "     - 'Path not found!' -- path was not found\n",
    "     - 'Execution error' -- an error occurred while executing the SearchFunction In first two cases function also draws visualisation of the task.\n",
    "    \n",
    "    Massive test return a dictionary with statistics of path finding. Dictionary contains next fields:\n",
    "     - \"corr\" -- the correctness of every path length (True/False)\n",
    "     - \"len\" -- the length of every path (0.0 if path not found)\n",
    "     - \"nc\" -- the number of created nodes for every task execution\n",
    "     - \"st\" -- the number of steps of algorithm for every task execution\n",
    "    '''\n",
    "    \n",
    "    stat = dict()\n",
    "    stat[\"corr\"] = []\n",
    "    stat[\"len\"] = []\n",
    "    stat[\"nc\"] = []\n",
    "    stat[\"st\"] = []\n",
    "    taskNum = 9\n",
    "    taskMap = Map()\n",
    "    for taskCount in range(taskNum):\n",
    "        taskFileName = \"Data/\" + str(taskCount) + \".map\"\n",
    "        width, height, cells, iStart, jStart, iGoal, jGoal, cardinalLength, diagonalLength = ReadTaskFromFile(taskFileName)\n",
    "        taskMap.SetGridCells(width,height,cells)\n",
    "        try:\n",
    "            result = SearchFunction(taskMap, iStart, jStart, iGoal, jGoal, *args)\n",
    "            nodesExpanded = result[2]\n",
    "            nodesOpened = result[3]\n",
    "            if result[0]:\n",
    "                path = MakePath(result[1])\n",
    "                stat[\"len\"].append(path[1])\n",
    "                correct = int(path[1])  == int(cardinalLength) or abs(float(path[1]) - float(diagonalLength)) < 1e-6\n",
    "                stat[\"corr\"].append(correct)\n",
    "                #Draw(taskMap, Node(iStart, jStart), Node(iGoal, jGoal), path[0], nodesExpanded, nodesOpened)\n",
    "                print(\"Path found! Length: \" + str(path[1]) + \". Nodes created: \" + str(len(nodesOpened) + len(nodesExpanded)) + \". Number of steps: \" + str(len(nodesExpanded)) + \". Correct: \" + str(correct))\n",
    "            else:\n",
    "                print(\"Path not found!\")\n",
    "                stat[\"corr\"].append(False)\n",
    "                stat[\"len\"].append(0.0)\n",
    "\n",
    "            stat[\"nc\"].append(len(nodesOpened) + len(nodesExpanded))\n",
    "            stat[\"st\"].append(len(nodesExpanded))\n",
    "\n",
    "        except Exception as e:\n",
    "            print(\"Execution error\")\n",
    "            print(e)\n",
    "\n",
    "    return stat"
   ]
  },
  {
   "cell_type": "code",
   "execution_count": 25,
   "metadata": {
    "tags": []
   },
   "outputs": [
    {
     "name": "stdout",
     "output_type": "stream",
     "text": [
      "Path found! Length: 42.0. Nodes created: 1528. Number of steps: 1179. Correct: True\n",
      "Wall time: 285 ms\n"
     ]
    },
    {
     "data": {
      "image/png": "[encoded data removed]",
      "text/plain": [
       "<Figure size 900x600 with 1 Axes>"
      ]
     },
     "metadata": {
      "needs_background": "light"
     },
     "output_type": "display_data"
    }
   ],
   "source": [
    "%time SimpleTest(WAStar, 0, ManhattanDistance, OpenList, ClosedList, False, 1.0)"
   ]
  },
  {
   "cell_type": "code",
   "execution_count": 26,
   "metadata": {},
   "outputs": [
    {
     "name": "stdout",
     "output_type": "stream",
     "text": [
      "Path found! Length: 39.31370849898476. Nodes created: 3130. Number of steps: 2660. Correct: True\n",
      "Wall time: 334 ms\n"
     ]
    },
    {
     "data": {
      "image/png": "[encoded data removed]",
      "text/plain": [
       "<Figure size 900x600 with 1 Axes>"
      ]
     },
     "metadata": {
      "needs_background": "light"
     },
     "output_type": "display_data"
    }
   ],
   "source": [
    "%time SimpleTest(WAStar, 0, DiagonalDistance, OpenList, YourClosed, True, 1.0)"
   ]
  },
  {
   "cell_type": "code",
   "execution_count": 27,
   "metadata": {},
   "outputs": [
    {
     "name": "stdout",
     "output_type": "stream",
     "text": [
      "Path found! Length: 39.31370849898476. Nodes created: 2764. Number of steps: 2300. Correct: True\n",
      "Wall time: 83.4 ms\n"
     ]
    },
    {
     "data": {
      "image/png": "[encoded data removed]",
      "text/plain": [
       "<Figure size 900x600 with 1 Axes>"
      ]
     },
     "metadata": {
      "needs_background": "light"
     },
     "output_type": "display_data"
    }
   ],
   "source": [
    "%time SimpleTest(WAStar, 0, DiagonalDistance, YourOpen, YourClosed, True, 1.1)"
   ]
  },
  {
   "cell_type": "code",
   "execution_count": 28,
   "metadata": {},
   "outputs": [
    {
     "name": "stdout",
     "output_type": "stream",
     "text": [
      "Path found! Length: 44.79898987322332. Nodes created: 1858. Number of steps: 1638. Correct: False\n",
      "Wall time: 113 ms\n"
     ]
    },
    {
     "data": {
      "image/png": "[encoded data removed]",
      "text/plain": [
       "<Figure size 900x600 with 1 Axes>"
      ]
     },
     "metadata": {
      "needs_background": "light"
     },
     "output_type": "display_data"
    }
   ],
   "source": [
    "%time SimpleTest(WAStar, 0, DiagonalDistance, YourOpen, YourClosed, True, 2.0)"
   ]
  },
  {
   "cell_type": "code",
   "execution_count": 29,
   "metadata": {},
   "outputs": [
    {
     "name": "stdout",
     "output_type": "stream",
     "text": [
      "Path found! Length: 67.0. Nodes created: 1962. Number of steps: 968. Correct: True\n",
      "Path found! Length: 214.0. Nodes created: 30504. Number of steps: 29298. Correct: True\n",
      "Path found! Length: 480.0. Nodes created: 193212. Number of steps: 183559. Correct: True\n",
      "Path found! Length: 568.0. Nodes created: 256638. Number of steps: 255167. Correct: True\n",
      "Path found! Length: 507.0. Nodes created: 228469. Number of steps: 225272. Correct: True\n",
      "Path found! Length: 418.0. Nodes created: 92309. Number of steps: 81985. Correct: True\n",
      "Path found! Length: 769.0. Nodes created: 655666. Number of steps: 653159. Correct: True\n",
      "Path found! Length: 702.0. Nodes created: 428969. Number of steps: 424524. Correct: True\n",
      "Path found! Length: 692.0. Nodes created: 380545. Number of steps: 327757. Correct: True\n",
      "Wall time: 53.7 s\n"
     ]
    }
   ],
   "source": [
    "#running massive test of optimal A* on 4-connected grids with Manhattan-distance heuristic\n",
    "%time astCardStat = MassiveTest(WAStar, ManhattanDistance, YourOpen, YourClosed, False, 1.0)"
   ]
  },
  {
   "cell_type": "code",
   "execution_count": 30,
   "metadata": {},
   "outputs": [
    {
     "name": "stdout",
     "output_type": "stream",
     "text": [
      "Path found! Length: 52.183766184073555. Nodes created: 3627. Number of steps: 2057. Correct: True\n",
      "Path found! Length: 204.02691193458136. Nodes created: 79712. Number of steps: 75218. Correct: True\n",
      "Path found! Length: 376.9457428549504. Nodes created: 250355. Number of steps: 222728. Correct: True\n",
      "Path found! Length: 441.4163056034276. Nodes created: 416913. Number of steps: 412721. Correct: True\n",
      "Path found! Length: 373.04119728445545. Nodes created: 207967. Number of steps: 194381. Correct: True\n",
      "Path found! Length: 359.592929112564. Nodes created: 214462. Number of steps: 205684. Correct: True\n",
      "Path found! Length: 591.1808075912456. Nodes created: 1124701. Number of steps: 1118600. Correct: True\n",
      "Path found! Length: 553.739682094291. Nodes created: 529558. Number of steps: 518718. Correct: True\n",
      "Path found! Length: 599.2741699796965. Nodes created: 758272. Number of steps: 696876. Correct: True\n",
      "Wall time: 2min 14s\n"
     ]
    }
   ],
   "source": [
    "#running massive test of optimal A* on 8-connected grids with Diagonal-distance heuristic\n",
    "%time astDiagStat = MassiveTest(WAStar, DiagonalDistance, YourOpen, YourClosed, True, 1.0)"
   ]
  },
  {
   "cell_type": "code",
   "execution_count": 31,
   "metadata": {},
   "outputs": [
    {
     "name": "stdout",
     "output_type": "stream",
     "text": [
      "Path found! Length: 52.183766184073555. Nodes created: 6677. Number of steps: 3937. Correct: True\n",
      "Path found! Length: 204.02691193458136. Nodes created: 85908. Number of steps: 82951. Correct: True\n",
      "Path found! Length: 376.9457428549504. Nodes created: 363877. Number of steps: 344526. Correct: True\n",
      "Path found! Length: 441.4163056034276. Nodes created: 438594. Number of steps: 433945. Correct: True\n",
      "Path found! Length: 373.04119728445545. Nodes created: 291226. Number of steps: 276743. Correct: True\n",
      "Path found! Length: 359.5929291125639. Nodes created: 263496. Number of steps: 254163. Correct: True\n",
      "Path found! Length: 591.1808075912456. Nodes created: 1154773. Number of steps: 1148421. Correct: True\n",
      "Path found! Length: 553.7396820942909. Nodes created: 644718. Number of steps: 626941. Correct: True\n",
      "Path found! Length: 599.2741699796965. Nodes created: 920599. Number of steps: 897258. Correct: True\n",
      "Wall time: 2min 40s\n"
     ]
    }
   ],
   "source": [
    "#running massive test of optimal A* on 8-connected grids with Euclidean-distance heuristic\n",
    "%time astEuclidStat = MassiveTest(WAStar, EuclideanDistance, YourOpen, YourClosed, True, 1.0)"
   ]
  },
  {
   "cell_type": "code",
   "execution_count": 32,
   "metadata": {},
   "outputs": [
    {
     "name": "stdout",
     "output_type": "stream",
     "text": [
      "Path found! Length: 52.183766184073555. Nodes created: 3404. Number of steps: 1871. Correct: True\n",
      "Path found! Length: 204.02691193458136. Nodes created: 77048. Number of steps: 73628. Correct: True\n",
      "Path found! Length: 376.9457428549504. Nodes created: 217373. Number of steps: 191858. Correct: True\n",
      "Path found! Length: 441.4163056034276. Nodes created: 413107. Number of steps: 408984. Correct: True\n",
      "Path found! Length: 373.04119728445545. Nodes created: 189799. Number of steps: 172814. Correct: True\n",
      "Path found! Length: 359.59292911256387. Nodes created: 206177. Number of steps: 198101. Correct: True\n",
      "Path found! Length: 591.1808075912456. Nodes created: 1119024. Number of steps: 1112795. Correct: True\n",
      "Path found! Length: 553.739682094291. Nodes created: 514968. Number of steps: 503711. Correct: True\n",
      "Path found! Length: 599.2741699796965. Nodes created: 689741. Number of steps: 610777. Correct: True\n",
      "Wall time: 2min 1s\n"
     ]
    }
   ],
   "source": [
    "#running massive test of weighted A* on 8-connected grids with Diagonal-distance heuristic and hweight = 1.01\n",
    "%time wastDiagStat101 = MassiveTest(WAStar, DiagonalDistance, YourOpen, YourClosed, True, 1.01)"
   ]
  },
  {
   "cell_type": "code",
   "execution_count": 33,
   "metadata": {},
   "outputs": [
    {
     "name": "stdout",
     "output_type": "stream",
     "text": [
      "Path found! Length: 52.183766184073555. Nodes created: 1752. Number of steps: 933. Correct: True\n",
      "Path found! Length: 204.02691193458136. Nodes created: 67683. Number of steps: 65964. Correct: True\n",
      "Path found! Length: 377.9457428549504. Nodes created: 223474. Number of steps: 213445. Correct: False\n",
      "Path found! Length: 441.8305191658007. Nodes created: 381116. Number of steps: 377223. Correct: False\n",
      "Path found! Length: 376.04119728445545. Nodes created: 55247. Number of steps: 42918. Correct: False\n",
      "Path found! Length: 359.59292911256387. Nodes created: 146054. Number of steps: 135701. Correct: True\n",
      "Path found! Length: 594.7665940288725. Nodes created: 1082992. Number of steps: 1077824. Correct: False\n",
      "Path found! Length: 567.7396820942909. Nodes created: 428051. Number of steps: 414496. Correct: False\n",
      "Path found! Length: 605.1025971044427. Nodes created: 590921. Number of steps: 575456. Correct: False\n",
      "Wall time: 1min 48s\n"
     ]
    }
   ],
   "source": [
    "#running massive test of weighted A* on 8-connected grids with Diagonal-distance heuristic and hweight = 1.1\n",
    "%time wastDiagStat11 = MassiveTest(WAStar, DiagonalDistance, YourOpen, YourClosed, True, 1.1)"
   ]
  },
  {
   "cell_type": "code",
   "execution_count": 34,
   "metadata": {},
   "outputs": [
    {
     "name": "stdout",
     "output_type": "stream",
     "text": [
      "Path found! Length: 54.18376618407355. Nodes created: 319. Number of steps: 120. Correct: False\n",
      "Path found! Length: 209.1984848098352. Nodes created: 35194. Number of steps: 33667. Correct: False\n",
      "Path found! Length: 455.8427124746207. Nodes created: 49366. Number of steps: 43445. Correct: False\n",
      "Path found! Length: 467.2152954766511. Nodes created: 238341. Number of steps: 234968. Correct: False\n",
      "Path found! Length: 391.28383797157477. Nodes created: 15038. Number of steps: 13177. Correct: False\n",
      "Path found! Length: 373.2497833620563. Nodes created: 55458. Number of steps: 52058. Correct: False\n",
      "Path found! Length: 614.2396820942911. Nodes created: 624566. Number of steps: 617171. Correct: False\n",
      "Path found! Length: 637.6564209736056. Nodes created: 110355. Number of steps: 104508. Correct: False\n",
      "Path found! Length: 683.9554108468291. Nodes created: 155908. Number of steps: 146644. Correct: False\n",
      "Wall time: 45.3 s\n"
     ]
    }
   ],
   "source": [
    "#running massive test of weighted A* on 8-connected grids with Diagonal-distance heuristic and hweight = 2\n",
    "%time wastDiagStat2 = MassiveTest(WAStar, DiagonalDistance, YourOpen, YourClosed, True, 2)"
   ]
  },
  {
   "cell_type": "markdown",
   "metadata": {},
   "source": [
    "# Analysis of results\n",
    "Lets compare the results of WA* with Diagonal-distance heuristic and different heuristic weights on 8-connected grids\n",
    "\n",
    "Additionally you can compare the results on 4-connected grids or with other heuristic functions"
   ]
  },
  {
   "cell_type": "markdown",
   "metadata": {},
   "source": [
    "![2](./Image/3.png)"
   ]
  },
  {
   "cell_type": "code",
   "execution_count": 35,
   "metadata": {},
   "outputs": [
    {
     "data": {
      "image/png": "[encoded data removed]",
      "text/plain": [
       "<Figure size 1080x720 with 9 Axes>"
      ]
     },
     "metadata": {
      "needs_background": "light"
     },
     "output_type": "display_data"
    }
   ],
   "source": [
    "fig, axs = plt.subplots(3, 3, figsize=(15,10))\n",
    "fig.suptitle('Average path length')\n",
    "for i in range(9):\n",
    "    ax = axs[i // 3, i % 3]\n",
    "    ax.set_title(str(i) + \" task\")\n",
    "    alg = ['A*', 'WA* 1.01', 'WA* 1.1', 'WA* 2.0' ]\n",
    "    lens = [astDiagStat['len'][i], wastDiagStat101['len'][i], wastDiagStat11['len'][i], wastDiagStat2['len'][i]]\n",
    "    ax.bar(alg, lens)\n",
    "plt.show()"
   ]
  },
  {
   "cell_type": "code",
   "execution_count": 36,
   "metadata": {},
   "outputs": [
    {
     "data": {
      "image/png": "[encoded data removed]",
      "text/plain": [
       "<Figure size 1080x720 with 9 Axes>"
      ]
     },
     "metadata": {
      "needs_background": "light"
     },
     "output_type": "display_data"
    }
   ],
   "source": [
    "fig, axs = plt.subplots(3, 3, figsize=(15,10))\n",
    "fig.suptitle('Average number of created nodes')\n",
    "for i in range(9):\n",
    "    ax = axs[i // 3, i % 3]\n",
    "    ax.set_title(str(i) + \" task\")\n",
    "    alg = ['A*', 'WA* 1.01', 'WA* 1.1', 'WA* 2.0' ]\n",
    "    lens = [astDiagStat['nc'][i], wastDiagStat101['nc'][i], wastDiagStat11['nc'][i], wastDiagStat2['nc'][i]]\n",
    "    ax.bar(alg, lens)\n",
    "plt.show()"
   ]
  },
  {
   "cell_type": "code",
   "execution_count": 37,
   "metadata": {},
   "outputs": [
    {
     "data": {
      "image/png": "[encoded data removed]",
      "text/plain": [
       "<Figure size 1080x720 with 9 Axes>"
      ]
     },
     "metadata": {
      "needs_background": "light"
     },
     "output_type": "display_data"
    }
   ],
   "source": [
    "fig, axs = plt.subplots(3, 3, figsize=(15,10))\n",
    "fig.suptitle('Average number of steps')\n",
    "for i in range(9):\n",
    "    ax = axs[i // 3, i % 3]\n",
    "    ax.set_title(str(i) + \" task\")\n",
    "    alg = ['A*', 'WA* 1.01', 'WA* 1.1', 'WA* 2.0' ]\n",
    "    lens = [astDiagStat['st'][i], wastDiagStat101['st'][i], wastDiagStat11['st'][i], wastDiagStat2['st'][i]]\n",
    "    ax.bar(alg, lens)\n",
    "plt.show()"
   ]
  },
  {
   "cell_type": "code",
   "execution_count": null,
   "metadata": {},
   "outputs": [],
   "source": []
  }
 ],
 "metadata": {
  "kernelspec": {
   "display_name": "Python 3",
   "language": "python",
   "name": "python3"
  },
  "language_info": {
   "codemirror_mode": {
    "name": "ipython",
    "version": 3
   },
   "file_extension": ".py",
   "mimetype": "text/x-python",
   "name": "python",
   "nbconvert_exporter": "python",
   "pygments_lexer": "ipython3",
   "version": "3.8.8"
  }
 },
 "nbformat": 4,
 "nbformat_minor": 2
}
